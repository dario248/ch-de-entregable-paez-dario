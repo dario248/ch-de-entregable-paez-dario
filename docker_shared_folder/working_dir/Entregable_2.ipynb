{
 "cells": [
  {
   "cell_type": "markdown",
   "id": "e1b9112d-0f58-4dfe-a2d8-382925768a6a",
   "metadata": {},
   "source": [
    "# CoderHouse - Data Engineering\n",
    "\n",
    "## Entregable N° 2 - Páez Darío"
   ]
  },
  {
   "cell_type": "markdown",
   "id": "ce292ed2-120f-4c83-bc01-328f0b9bf493",
   "metadata": {
    "jp-MarkdownHeadingCollapsed": true,
    "tags": []
   },
   "source": [
    "# Importación de módulos"
   ]
  },
  {
   "cell_type": "code",
   "execution_count": 1,
   "id": "c03619fe-108a-4c9c-a5a2-a6e1b7c1c813",
   "metadata": {
    "tags": []
   },
   "outputs": [],
   "source": [
    "import os\n",
    "import requests\n",
    "import pandas as pd\n",
    "import seaborn as sns\n",
    "from os import environ as env\n",
    "import matplotlib.pyplot as plt\n",
    "import urllib.parse\n",
    "from pyspark.sql import SparkSession\n",
    "from pyspark.sql.functions import when, lit, col, avg\n",
    "\n",
    "# Seaborn theme\n",
    "sns.set_theme()"
   ]
  },
  {
   "cell_type": "code",
   "execution_count": 2,
   "id": "4650c59e-46c3-4579-8a9c-1de25c328ae2",
   "metadata": {
    "tags": []
   },
   "outputs": [
    {
     "name": "stdout",
     "output_type": "stream",
     "text": [
      "Requirement already satisfied: psycopg2-binary in /opt/conda/lib/python3.10/site-packages (2.9.6)\n"
     ]
    }
   ],
   "source": [
    "# Psycopg\n",
    "!pip install psycopg2-binary"
   ]
  },
  {
   "cell_type": "code",
   "execution_count": 3,
   "id": "81ca29d4-d938-4a17-82d1-d10452e19b54",
   "metadata": {
    "tags": []
   },
   "outputs": [],
   "source": [
    "import psycopg2"
   ]
  },
  {
   "cell_type": "markdown",
   "id": "470bbb20-90ec-489c-8c05-9ecc52d3d254",
   "metadata": {
    "tags": []
   },
   "source": [
    "# Extracción de Datos"
   ]
  },
  {
   "cell_type": "markdown",
   "id": "c220cfd8-4a14-4837-91d2-2620e6e59d73",
   "metadata": {
    "tags": []
   },
   "source": [
    "## API Datos Argentina"
   ]
  },
  {
   "cell_type": "markdown",
   "id": "b9f519d1-e57a-4f4b-8ab5-519cf5859860",
   "metadata": {},
   "source": [
    "Mediante la API pública del gobierno de Argentina se extrae el **EMAE** (Estimador Mensual de Actividad Económica) para el período Marzo-2013 a Junio-2021, debido a que la llamada a la API solo permite extraer de a **100 registros**."
   ]
  },
  {
   "cell_type": "code",
   "execution_count": 4,
   "id": "7163de24-c1b9-49e9-b301-0d8ffb45a973",
   "metadata": {
    "tags": []
   },
   "outputs": [],
   "source": [
    "# Función para formatear la url de conexión con la API\n",
    "def get_api_call(ids, **kwargs):\n",
    "    API_BASE_URL = \"https://apis.datos.gob.ar/series/api/\"\n",
    "    kwargs[\"ids\"] = \",\".join(ids)\n",
    "    return \"{}{}?{}\".format(API_BASE_URL, \"series\", urllib.parse.urlencode(kwargs))"
   ]
  },
  {
   "cell_type": "code",
   "execution_count": 5,
   "id": "742cfa2c-1e62-4c24-ae25-1cad89b81521",
   "metadata": {
    "tags": []
   },
   "outputs": [
    {
     "name": "stdout",
     "output_type": "stream",
     "text": [
      "https://apis.datos.gob.ar/series/api/series?start_date=2013-03-01&end_date=2023-06-01&ids=143.3_NO_PR_2004_A_21\n"
     ]
    }
   ],
   "source": [
    "# Formateo de la url de acuerdo a la variable y período deseados\n",
    "api_call = get_api_call([\"143.3_NO_PR_2004_A_21\"], start_date=\"2013-03-01\", end_date=\"2023-06-01\")\n",
    "print(api_call)"
   ]
  },
  {
   "cell_type": "code",
   "execution_count": 6,
   "id": "1fce7a9f-1376-4f51-b8f8-7b3008eff227",
   "metadata": {
    "tags": []
   },
   "outputs": [],
   "source": [
    "# Respuesta de la API\n",
    "result = requests.get(api_call).json()"
   ]
  },
  {
   "cell_type": "markdown",
   "id": "cdac39eb-7a2a-4c87-b347-35feb89a6d25",
   "metadata": {},
   "source": [
    "### A través de pandas se crea una tabla con los resultados obtenidos de la API"
   ]
  },
  {
   "cell_type": "code",
   "execution_count": 7,
   "id": "c8fba53b-cd74-4201-8a40-226c52d3869b",
   "metadata": {
    "tags": []
   },
   "outputs": [],
   "source": [
    "df_emae = pd.DataFrame(result['data'], columns=['date', 'EMAE'])"
   ]
  },
  {
   "cell_type": "code",
   "execution_count": 8,
   "id": "4355f86f-8886-4f69-9d39-780ed2eec7ee",
   "metadata": {
    "tags": []
   },
   "outputs": [
    {
     "data": {
      "text/html": [
       "<div>\n",
       "<style scoped>\n",
       "    .dataframe tbody tr th:only-of-type {\n",
       "        vertical-align: middle;\n",
       "    }\n",
       "\n",
       "    .dataframe tbody tr th {\n",
       "        vertical-align: top;\n",
       "    }\n",
       "\n",
       "    .dataframe thead th {\n",
       "        text-align: right;\n",
       "    }\n",
       "</style>\n",
       "<table border=\"1\" class=\"dataframe\">\n",
       "  <thead>\n",
       "    <tr style=\"text-align: right;\">\n",
       "      <th></th>\n",
       "      <th>date</th>\n",
       "      <th>EMAE</th>\n",
       "    </tr>\n",
       "  </thead>\n",
       "  <tbody>\n",
       "    <tr>\n",
       "      <th>0</th>\n",
       "      <td>2013-03-01</td>\n",
       "      <td>149.403946</td>\n",
       "    </tr>\n",
       "    <tr>\n",
       "      <th>1</th>\n",
       "      <td>2013-04-01</td>\n",
       "      <td>155.941596</td>\n",
       "    </tr>\n",
       "    <tr>\n",
       "      <th>2</th>\n",
       "      <td>2013-05-01</td>\n",
       "      <td>167.973479</td>\n",
       "    </tr>\n",
       "    <tr>\n",
       "      <th>3</th>\n",
       "      <td>2013-06-01</td>\n",
       "      <td>156.271864</td>\n",
       "    </tr>\n",
       "    <tr>\n",
       "      <th>4</th>\n",
       "      <td>2013-07-01</td>\n",
       "      <td>150.731001</td>\n",
       "    </tr>\n",
       "  </tbody>\n",
       "</table>\n",
       "</div>"
      ],
      "text/plain": [
       "         date        EMAE\n",
       "0  2013-03-01  149.403946\n",
       "1  2013-04-01  155.941596\n",
       "2  2013-05-01  167.973479\n",
       "3  2013-06-01  156.271864\n",
       "4  2013-07-01  150.731001"
      ]
     },
     "execution_count": 8,
     "metadata": {},
     "output_type": "execute_result"
    }
   ],
   "source": [
    "df_emae.head()"
   ]
  },
  {
   "cell_type": "code",
   "execution_count": 9,
   "id": "b9574b8d-8f8d-47bd-b9a6-f2ad33ed1bba",
   "metadata": {
    "tags": []
   },
   "outputs": [],
   "source": [
    "# Se incorpora una columna que permita ver la variación respecto a la media\n",
    "df_emae['variacion'] = df_emae['EMAE'] - df_emae['EMAE'].mean()"
   ]
  },
  {
   "cell_type": "code",
   "execution_count": 10,
   "id": "7e60b2c1-62ec-4914-b3f6-3708d469c999",
   "metadata": {
    "tags": []
   },
   "outputs": [
    {
     "data": {
      "text/plain": [
       "(100, 3)"
      ]
     },
     "execution_count": 10,
     "metadata": {},
     "output_type": "execute_result"
    }
   ],
   "source": [
    "df_emae.shape"
   ]
  },
  {
   "cell_type": "code",
   "execution_count": 11,
   "id": "6d52e01f-f6b4-4bf6-860e-16bb2958e807",
   "metadata": {
    "tags": []
   },
   "outputs": [
    {
     "data": {
      "text/html": [
       "<div>\n",
       "<style scoped>\n",
       "    .dataframe tbody tr th:only-of-type {\n",
       "        vertical-align: middle;\n",
       "    }\n",
       "\n",
       "    .dataframe tbody tr th {\n",
       "        vertical-align: top;\n",
       "    }\n",
       "\n",
       "    .dataframe thead th {\n",
       "        text-align: right;\n",
       "    }\n",
       "</style>\n",
       "<table border=\"1\" class=\"dataframe\">\n",
       "  <thead>\n",
       "    <tr style=\"text-align: right;\">\n",
       "      <th></th>\n",
       "      <th>date</th>\n",
       "      <th>EMAE</th>\n",
       "      <th>variacion</th>\n",
       "    </tr>\n",
       "  </thead>\n",
       "  <tbody>\n",
       "    <tr>\n",
       "      <th>0</th>\n",
       "      <td>2013-03-01</td>\n",
       "      <td>149.403946</td>\n",
       "      <td>5.043770</td>\n",
       "    </tr>\n",
       "    <tr>\n",
       "      <th>1</th>\n",
       "      <td>2013-04-01</td>\n",
       "      <td>155.941596</td>\n",
       "      <td>11.581420</td>\n",
       "    </tr>\n",
       "    <tr>\n",
       "      <th>2</th>\n",
       "      <td>2013-05-01</td>\n",
       "      <td>167.973479</td>\n",
       "      <td>23.613304</td>\n",
       "    </tr>\n",
       "    <tr>\n",
       "      <th>3</th>\n",
       "      <td>2013-06-01</td>\n",
       "      <td>156.271864</td>\n",
       "      <td>11.911689</td>\n",
       "    </tr>\n",
       "    <tr>\n",
       "      <th>4</th>\n",
       "      <td>2013-07-01</td>\n",
       "      <td>150.731001</td>\n",
       "      <td>6.370826</td>\n",
       "    </tr>\n",
       "  </tbody>\n",
       "</table>\n",
       "</div>"
      ],
      "text/plain": [
       "         date        EMAE  variacion\n",
       "0  2013-03-01  149.403946   5.043770\n",
       "1  2013-04-01  155.941596  11.581420\n",
       "2  2013-05-01  167.973479  23.613304\n",
       "3  2013-06-01  156.271864  11.911689\n",
       "4  2013-07-01  150.731001   6.370826"
      ]
     },
     "execution_count": 11,
     "metadata": {},
     "output_type": "execute_result"
    }
   ],
   "source": [
    "df_emae.head()"
   ]
  },
  {
   "cell_type": "markdown",
   "id": "c74f9a7f-42c2-4a03-a0a2-507bf669b6fd",
   "metadata": {
    "tags": []
   },
   "source": [
    "## Canasta básica"
   ]
  },
  {
   "cell_type": "markdown",
   "id": "a57d5c73-df38-46fd-a3f9-7c8541d62acf",
   "metadata": {},
   "source": [
    "A través del explorador de la [API de series de tiempo del Ministerio de Modernización](https://datosgobar.github.io/series-tiempo-ar-explorer/#/series/?ids=444.1_CANASTA_BATAL_0_0_20_94), se obtiene en formato **.csv** los datos de la **canasta básica alimentaria** y **canasta básica total** en pesos de la Ciudad Autónoma de Buenos Aires para el período **Enero-2013/Noviembre-2018** (frecuencia mensual)"
   ]
  },
  {
   "cell_type": "code",
   "execution_count": 12,
   "id": "88badba4-43e3-427e-91d3-3c5ae7b5d95a",
   "metadata": {
    "tags": []
   },
   "outputs": [],
   "source": [
    "df_canasta = pd.read_csv('data/canastas-basicas-ciudad-de-buenos-aires.csv')"
   ]
  },
  {
   "cell_type": "code",
   "execution_count": 13,
   "id": "92df3293-0065-45f1-aaf5-1b7edb2905c7",
   "metadata": {
    "tags": []
   },
   "outputs": [],
   "source": [
    "# Cambio del nombre de la columna indice_tiempo\n",
    "df_canasta.rename(columns={'indice_tiempo': 'date'}, inplace=True)"
   ]
  },
  {
   "cell_type": "code",
   "execution_count": 14,
   "id": "af122506-2390-4d0c-8ea5-ee5cf89d2b06",
   "metadata": {
    "tags": []
   },
   "outputs": [
    {
     "data": {
      "text/html": [
       "<div>\n",
       "<style scoped>\n",
       "    .dataframe tbody tr th:only-of-type {\n",
       "        vertical-align: middle;\n",
       "    }\n",
       "\n",
       "    .dataframe tbody tr th {\n",
       "        vertical-align: top;\n",
       "    }\n",
       "\n",
       "    .dataframe thead th {\n",
       "        text-align: right;\n",
       "    }\n",
       "</style>\n",
       "<table border=\"1\" class=\"dataframe\">\n",
       "  <thead>\n",
       "    <tr style=\"text-align: right;\">\n",
       "      <th></th>\n",
       "      <th>date</th>\n",
       "      <th>canasta_basica_alimentaria</th>\n",
       "      <th>canasta_basica_total</th>\n",
       "    </tr>\n",
       "  </thead>\n",
       "  <tbody>\n",
       "    <tr>\n",
       "      <th>0</th>\n",
       "      <td>2013-01-01</td>\n",
       "      <td>2634.91</td>\n",
       "      <td>5813.43</td>\n",
       "    </tr>\n",
       "    <tr>\n",
       "      <th>1</th>\n",
       "      <td>2013-02-01</td>\n",
       "      <td>2645.91</td>\n",
       "      <td>5852.52</td>\n",
       "    </tr>\n",
       "    <tr>\n",
       "      <th>2</th>\n",
       "      <td>2013-03-01</td>\n",
       "      <td>2676.89</td>\n",
       "      <td>5974.26</td>\n",
       "    </tr>\n",
       "    <tr>\n",
       "      <th>3</th>\n",
       "      <td>2013-04-01</td>\n",
       "      <td>2702.55</td>\n",
       "      <td>6074.80</td>\n",
       "    </tr>\n",
       "    <tr>\n",
       "      <th>4</th>\n",
       "      <td>2013-05-01</td>\n",
       "      <td>2713.25</td>\n",
       "      <td>6150.23</td>\n",
       "    </tr>\n",
       "  </tbody>\n",
       "</table>\n",
       "</div>"
      ],
      "text/plain": [
       "         date  canasta_basica_alimentaria  canasta_basica_total\n",
       "0  2013-01-01                     2634.91               5813.43\n",
       "1  2013-02-01                     2645.91               5852.52\n",
       "2  2013-03-01                     2676.89               5974.26\n",
       "3  2013-04-01                     2702.55               6074.80\n",
       "4  2013-05-01                     2713.25               6150.23"
      ]
     },
     "execution_count": 14,
     "metadata": {},
     "output_type": "execute_result"
    }
   ],
   "source": [
    "df_canasta.head()"
   ]
  },
  {
   "cell_type": "code",
   "execution_count": 15,
   "id": "8261ba4e-ec66-4c1f-8648-f8e7d352930d",
   "metadata": {
    "tags": []
   },
   "outputs": [
    {
     "data": {
      "text/plain": [
       "(71, 3)"
      ]
     },
     "execution_count": 15,
     "metadata": {},
     "output_type": "execute_result"
    }
   ],
   "source": [
    "df_canasta.shape"
   ]
  },
  {
   "cell_type": "markdown",
   "id": "488f26c0-f348-4ffa-a580-88d673c631a3",
   "metadata": {
    "tags": []
   },
   "source": [
    "## Tipo de Cambio "
   ]
  },
  {
   "cell_type": "markdown",
   "id": "c55b5b14-8724-438e-86d6-b6dd87ab4354",
   "metadata": {},
   "source": [
    "De la misma manera, se obtiene los datos de tipo de cambio (Dólar-Peso) vendedor del Banco de la Nación Argentina para el período **2014-11-03 a 2022-11-30**. En este caso, la frecuencia de los datos es diaria  "
   ]
  },
  {
   "cell_type": "code",
   "execution_count": 16,
   "id": "3953ccd7-0582-493d-a462-47736c4a2d23",
   "metadata": {
    "tags": []
   },
   "outputs": [],
   "source": [
    "df_cambio = pd.read_csv('data/datos-tipo-cambio-usd-futuro-dolar-frecuencia-diaria.csv')"
   ]
  },
  {
   "cell_type": "code",
   "execution_count": 17,
   "id": "a376ec6b-e41a-454c-b87e-5285ebf39818",
   "metadata": {
    "tags": []
   },
   "outputs": [],
   "source": [
    "df_cambio.rename(columns={'indice_tiempo': 'date'}, inplace=True)"
   ]
  },
  {
   "cell_type": "code",
   "execution_count": 18,
   "id": "37b66d9f-4e93-4090-865c-c2db223b0cda",
   "metadata": {
    "tags": []
   },
   "outputs": [
    {
     "data": {
      "text/html": [
       "<div>\n",
       "<style scoped>\n",
       "    .dataframe tbody tr th:only-of-type {\n",
       "        vertical-align: middle;\n",
       "    }\n",
       "\n",
       "    .dataframe tbody tr th {\n",
       "        vertical-align: top;\n",
       "    }\n",
       "\n",
       "    .dataframe thead th {\n",
       "        text-align: right;\n",
       "    }\n",
       "</style>\n",
       "<table border=\"1\" class=\"dataframe\">\n",
       "  <thead>\n",
       "    <tr style=\"text-align: right;\">\n",
       "      <th></th>\n",
       "      <th>date</th>\n",
       "      <th>tipo_cambio_bna_vendedor</th>\n",
       "      <th>tipo_cambio_a3500</th>\n",
       "      <th>tipo_cambio_mae</th>\n",
       "      <th>volumen_mae</th>\n",
       "      <th>tipo_cambio_implicito_en_adrs</th>\n",
       "      <th>futuro_rofex_usd1m</th>\n",
       "      <th>interes_abierto_1m</th>\n",
       "      <th>futuro_rofex_usd2m</th>\n",
       "      <th>interes_abierto_2m</th>\n",
       "      <th>futuro_rofex_usd3m</th>\n",
       "      <th>interes_abierto_3m</th>\n",
       "      <th>futuro_rofex_usd4m</th>\n",
       "      <th>interes_abierto_4m</th>\n",
       "      <th>futuro_rofex_usd5m</th>\n",
       "      <th>interes_abierto_5m</th>\n",
       "      <th>futuro_rofex_usd6m</th>\n",
       "      <th>interes_abierto_6m</th>\n",
       "    </tr>\n",
       "  </thead>\n",
       "  <tbody>\n",
       "    <tr>\n",
       "      <th>0</th>\n",
       "      <td>2002-03-05</td>\n",
       "      <td>NaN</td>\n",
       "      <td>1.9917</td>\n",
       "      <td>NaN</td>\n",
       "      <td>NaN</td>\n",
       "      <td>2.180124</td>\n",
       "      <td>NaN</td>\n",
       "      <td>NaN</td>\n",
       "      <td>NaN</td>\n",
       "      <td>NaN</td>\n",
       "      <td>NaN</td>\n",
       "      <td>NaN</td>\n",
       "      <td>NaN</td>\n",
       "      <td>NaN</td>\n",
       "      <td>NaN</td>\n",
       "      <td>NaN</td>\n",
       "      <td>NaN</td>\n",
       "      <td>NaN</td>\n",
       "    </tr>\n",
       "    <tr>\n",
       "      <th>1</th>\n",
       "      <td>2002-03-06</td>\n",
       "      <td>NaN</td>\n",
       "      <td>2.0508</td>\n",
       "      <td>NaN</td>\n",
       "      <td>NaN</td>\n",
       "      <td>2.222222</td>\n",
       "      <td>NaN</td>\n",
       "      <td>NaN</td>\n",
       "      <td>NaN</td>\n",
       "      <td>NaN</td>\n",
       "      <td>NaN</td>\n",
       "      <td>NaN</td>\n",
       "      <td>NaN</td>\n",
       "      <td>NaN</td>\n",
       "      <td>NaN</td>\n",
       "      <td>NaN</td>\n",
       "      <td>NaN</td>\n",
       "      <td>NaN</td>\n",
       "    </tr>\n",
       "    <tr>\n",
       "      <th>2</th>\n",
       "      <td>2002-03-07</td>\n",
       "      <td>NaN</td>\n",
       "      <td>2.1375</td>\n",
       "      <td>NaN</td>\n",
       "      <td>NaN</td>\n",
       "      <td>2.343949</td>\n",
       "      <td>NaN</td>\n",
       "      <td>NaN</td>\n",
       "      <td>NaN</td>\n",
       "      <td>NaN</td>\n",
       "      <td>NaN</td>\n",
       "      <td>NaN</td>\n",
       "      <td>NaN</td>\n",
       "      <td>NaN</td>\n",
       "      <td>NaN</td>\n",
       "      <td>NaN</td>\n",
       "      <td>NaN</td>\n",
       "      <td>NaN</td>\n",
       "    </tr>\n",
       "    <tr>\n",
       "      <th>3</th>\n",
       "      <td>2002-03-08</td>\n",
       "      <td>NaN</td>\n",
       "      <td>2.2033</td>\n",
       "      <td>NaN</td>\n",
       "      <td>NaN</td>\n",
       "      <td>2.227778</td>\n",
       "      <td>NaN</td>\n",
       "      <td>NaN</td>\n",
       "      <td>NaN</td>\n",
       "      <td>NaN</td>\n",
       "      <td>NaN</td>\n",
       "      <td>NaN</td>\n",
       "      <td>NaN</td>\n",
       "      <td>NaN</td>\n",
       "      <td>NaN</td>\n",
       "      <td>NaN</td>\n",
       "      <td>NaN</td>\n",
       "      <td>NaN</td>\n",
       "    </tr>\n",
       "    <tr>\n",
       "      <th>4</th>\n",
       "      <td>2002-03-09</td>\n",
       "      <td>NaN</td>\n",
       "      <td>2.2033</td>\n",
       "      <td>NaN</td>\n",
       "      <td>NaN</td>\n",
       "      <td>2.227778</td>\n",
       "      <td>NaN</td>\n",
       "      <td>NaN</td>\n",
       "      <td>NaN</td>\n",
       "      <td>NaN</td>\n",
       "      <td>NaN</td>\n",
       "      <td>NaN</td>\n",
       "      <td>NaN</td>\n",
       "      <td>NaN</td>\n",
       "      <td>NaN</td>\n",
       "      <td>NaN</td>\n",
       "      <td>NaN</td>\n",
       "      <td>NaN</td>\n",
       "    </tr>\n",
       "  </tbody>\n",
       "</table>\n",
       "</div>"
      ],
      "text/plain": [
       "         date  tipo_cambio_bna_vendedor  tipo_cambio_a3500  tipo_cambio_mae   \n",
       "0  2002-03-05                       NaN             1.9917              NaN  \\\n",
       "1  2002-03-06                       NaN             2.0508              NaN   \n",
       "2  2002-03-07                       NaN             2.1375              NaN   \n",
       "3  2002-03-08                       NaN             2.2033              NaN   \n",
       "4  2002-03-09                       NaN             2.2033              NaN   \n",
       "\n",
       "   volumen_mae  tipo_cambio_implicito_en_adrs  futuro_rofex_usd1m   \n",
       "0          NaN                       2.180124                 NaN  \\\n",
       "1          NaN                       2.222222                 NaN   \n",
       "2          NaN                       2.343949                 NaN   \n",
       "3          NaN                       2.227778                 NaN   \n",
       "4          NaN                       2.227778                 NaN   \n",
       "\n",
       "   interes_abierto_1m  futuro_rofex_usd2m  interes_abierto_2m   \n",
       "0                 NaN                 NaN                 NaN  \\\n",
       "1                 NaN                 NaN                 NaN   \n",
       "2                 NaN                 NaN                 NaN   \n",
       "3                 NaN                 NaN                 NaN   \n",
       "4                 NaN                 NaN                 NaN   \n",
       "\n",
       "   futuro_rofex_usd3m  interes_abierto_3m  futuro_rofex_usd4m   \n",
       "0                 NaN                 NaN                 NaN  \\\n",
       "1                 NaN                 NaN                 NaN   \n",
       "2                 NaN                 NaN                 NaN   \n",
       "3                 NaN                 NaN                 NaN   \n",
       "4                 NaN                 NaN                 NaN   \n",
       "\n",
       "   interes_abierto_4m  futuro_rofex_usd5m  interes_abierto_5m   \n",
       "0                 NaN                 NaN                 NaN  \\\n",
       "1                 NaN                 NaN                 NaN   \n",
       "2                 NaN                 NaN                 NaN   \n",
       "3                 NaN                 NaN                 NaN   \n",
       "4                 NaN                 NaN                 NaN   \n",
       "\n",
       "   futuro_rofex_usd6m  interes_abierto_6m  \n",
       "0                 NaN                 NaN  \n",
       "1                 NaN                 NaN  \n",
       "2                 NaN                 NaN  \n",
       "3                 NaN                 NaN  \n",
       "4                 NaN                 NaN  "
      ]
     },
     "execution_count": 18,
     "metadata": {},
     "output_type": "execute_result"
    }
   ],
   "source": [
    "df_cambio.head()"
   ]
  },
  {
   "cell_type": "code",
   "execution_count": 19,
   "id": "c9c9825a-a297-461d-af93-31115e08d8dc",
   "metadata": {
    "tags": []
   },
   "outputs": [
    {
     "data": {
      "text/plain": [
       "(7727, 18)"
      ]
     },
     "execution_count": 19,
     "metadata": {},
     "output_type": "execute_result"
    }
   ],
   "source": [
    "df_cambio.shape"
   ]
  },
  {
   "cell_type": "markdown",
   "id": "a44ca53e-1e65-4499-a31b-d75f7eac44e4",
   "metadata": {},
   "source": [
    "Vemos que se obtiene una gran cantidad de datos con varios valores nulos y que arranca desde el año 2002. Al analizar los valores nulos se puede ver que la columna de interés (**tipo_cambio_bna_vendedor**) tiene gran cantidad de valores nulos."
   ]
  },
  {
   "cell_type": "code",
   "execution_count": 20,
   "id": "e70ab9e5-02d5-40ba-af33-6906dace6cbd",
   "metadata": {
    "tags": []
   },
   "outputs": [
    {
     "data": {
      "text/plain": [
       "date                                0\n",
       "tipo_cambio_bna_vendedor         4626\n",
       "tipo_cambio_a3500                   0\n",
       "tipo_cambio_mae                  2311\n",
       "volumen_mae                      4393\n",
       "tipo_cambio_implicito_en_adrs       2\n",
       "futuro_rofex_usd1m               2496\n",
       "interes_abierto_1m               2496\n",
       "futuro_rofex_usd2m               2496\n",
       "interes_abierto_2m               2496\n",
       "futuro_rofex_usd3m               2496\n",
       "interes_abierto_3m               2496\n",
       "futuro_rofex_usd4m               2496\n",
       "interes_abierto_4m               2496\n",
       "futuro_rofex_usd5m               2496\n",
       "interes_abierto_5m               2496\n",
       "futuro_rofex_usd6m               2496\n",
       "interes_abierto_6m               2496\n",
       "dtype: int64"
      ]
     },
     "execution_count": 20,
     "metadata": {},
     "output_type": "execute_result"
    }
   ],
   "source": [
    "df_cambio.isna().sum()"
   ]
  },
  {
   "cell_type": "code",
   "execution_count": 21,
   "id": "8ecdc257-3aa0-42fd-b1bf-d415d395af04",
   "metadata": {
    "tags": []
   },
   "outputs": [],
   "source": [
    "# Filtrado por fecha y se selecciona la columna de interés\n",
    "df_cambio2 = df_cambio[df_cambio.date > '2014-11-03'][['date', 'tipo_cambio_bna_vendedor']]"
   ]
  },
  {
   "cell_type": "code",
   "execution_count": 22,
   "id": "3dacac4c-f54b-4859-ae66-46c5a2d2c31e",
   "metadata": {
    "tags": []
   },
   "outputs": [
    {
     "data": {
      "text/plain": [
       "(3100, 2)"
      ]
     },
     "execution_count": 22,
     "metadata": {},
     "output_type": "execute_result"
    }
   ],
   "source": [
    "df_cambio2.shape"
   ]
  },
  {
   "cell_type": "code",
   "execution_count": 23,
   "id": "8e1d65fa-f75a-47be-8674-35b8edfd5192",
   "metadata": {
    "tags": []
   },
   "outputs": [
    {
     "data": {
      "text/plain": [
       "date                        0\n",
       "tipo_cambio_bna_vendedor    0\n",
       "dtype: int64"
      ]
     },
     "execution_count": 23,
     "metadata": {},
     "output_type": "execute_result"
    }
   ],
   "source": [
    "# Comprobación de valores nulos\n",
    "df_cambio2.isna().sum()"
   ]
  },
  {
   "cell_type": "code",
   "execution_count": 24,
   "id": "5f27815c-000c-4d1d-bfbb-1333d51a3dc1",
   "metadata": {
    "tags": []
   },
   "outputs": [
    {
     "data": {
      "text/html": [
       "<div>\n",
       "<style scoped>\n",
       "    .dataframe tbody tr th:only-of-type {\n",
       "        vertical-align: middle;\n",
       "    }\n",
       "\n",
       "    .dataframe tbody tr th {\n",
       "        vertical-align: top;\n",
       "    }\n",
       "\n",
       "    .dataframe thead th {\n",
       "        text-align: right;\n",
       "    }\n",
       "</style>\n",
       "<table border=\"1\" class=\"dataframe\">\n",
       "  <thead>\n",
       "    <tr style=\"text-align: right;\">\n",
       "      <th></th>\n",
       "      <th>date</th>\n",
       "      <th>tipo_cambio_bna_vendedor</th>\n",
       "    </tr>\n",
       "  </thead>\n",
       "  <tbody>\n",
       "    <tr>\n",
       "      <th>4627</th>\n",
       "      <td>2014-11-04</td>\n",
       "      <td>8.51</td>\n",
       "    </tr>\n",
       "    <tr>\n",
       "      <th>4628</th>\n",
       "      <td>2014-11-05</td>\n",
       "      <td>8.51</td>\n",
       "    </tr>\n",
       "    <tr>\n",
       "      <th>4629</th>\n",
       "      <td>2014-11-06</td>\n",
       "      <td>8.51</td>\n",
       "    </tr>\n",
       "    <tr>\n",
       "      <th>4630</th>\n",
       "      <td>2014-11-07</td>\n",
       "      <td>8.51</td>\n",
       "    </tr>\n",
       "    <tr>\n",
       "      <th>4631</th>\n",
       "      <td>2014-11-08</td>\n",
       "      <td>8.51</td>\n",
       "    </tr>\n",
       "  </tbody>\n",
       "</table>\n",
       "</div>"
      ],
      "text/plain": [
       "            date  tipo_cambio_bna_vendedor\n",
       "4627  2014-11-04                      8.51\n",
       "4628  2014-11-05                      8.51\n",
       "4629  2014-11-06                      8.51\n",
       "4630  2014-11-07                      8.51\n",
       "4631  2014-11-08                      8.51"
      ]
     },
     "execution_count": 24,
     "metadata": {},
     "output_type": "execute_result"
    }
   ],
   "source": [
    "df_cambio2.head()"
   ]
  },
  {
   "cell_type": "markdown",
   "id": "8d1e01f8-44ce-4107-984e-392736ee2578",
   "metadata": {
    "tags": []
   },
   "source": [
    "# Creación de Tablas en Redshift"
   ]
  },
  {
   "cell_type": "markdown",
   "id": "746e1394-dbcd-47f7-b8dc-d77d5b9bc56b",
   "metadata": {},
   "source": [
    "## Conexión a través de psycopg"
   ]
  },
  {
   "cell_type": "code",
   "execution_count": 64,
   "id": "73fe25b9-5fa9-4e5a-8794-5eef99821396",
   "metadata": {
    "tags": []
   },
   "outputs": [],
   "source": [
    "# Connect to Redshift using psycopg2\n",
    "conn = psycopg2.connect(\n",
    "    host=env['REDSHIFT_URL'],\n",
    "    port=env['REDSHIFT_PORT'],\n",
    "    dbname=env['REDSHIFT_DATABASE'],\n",
    "    user=env['REDSHIFT_USER'],\n",
    "    password=env['REDSHIFT_PASSWORD']\n",
    ")"
   ]
  },
  {
   "cell_type": "markdown",
   "id": "2a835f7b-dc97-41ec-aeba-546f727158bb",
   "metadata": {},
   "source": [
    "## Tabla de Actividad Economica"
   ]
  },
  {
   "cell_type": "markdown",
   "id": "d4499785-fb20-4849-9c77-ac521047645e",
   "metadata": {},
   "source": [
    "Esta tabla fue creada en el entregable anterior por lo tanto no es necesario volver a crearla"
   ]
  },
  {
   "cell_type": "markdown",
   "id": "d7422be5-0564-4fa9-aeb9-8217c34220f9",
   "metadata": {},
   "source": [
    "## Tabla de Canasta Básica"
   ]
  },
  {
   "cell_type": "code",
   "execution_count": 53,
   "id": "52995171-0265-4432-a8f9-209eaf63accd",
   "metadata": {
    "tags": []
   },
   "outputs": [
    {
     "name": "stdout",
     "output_type": "stream",
     "text": [
      "Table created!\n"
     ]
    }
   ],
   "source": [
    "cursor = conn.cursor()\n",
    "cursor.execute(f\"\"\"\n",
    "create table if not exists {env['REDSHIFT_SCHEMA']}.canasta_basica (\n",
    "    date VARCHAR(10) distkey,\n",
    "    canasta_basica_alimentaria decimal(6,2),\n",
    "    canasta_basica_total decimal(6,2)\n",
    ") sortkey(date);\n",
    "\"\"\")\n",
    "conn.commit()\n",
    "cursor.close()\n",
    "print(\"Table created!\")"
   ]
  },
  {
   "cell_type": "markdown",
   "id": "8244a4ef-ebf0-40c1-9786-d80a11c71f34",
   "metadata": {},
   "source": [
    "## Tabla de Tipo de Cambio"
   ]
  },
  {
   "cell_type": "code",
   "execution_count": 72,
   "id": "055ba75e-d1f4-4b51-b374-905f12fe9916",
   "metadata": {
    "tags": []
   },
   "outputs": [
    {
     "name": "stdout",
     "output_type": "stream",
     "text": [
      "Table created!\n"
     ]
    }
   ],
   "source": [
    "cursor = conn.cursor()\n",
    "cursor.execute(f\"\"\"\n",
    "create table if not exists {env['REDSHIFT_SCHEMA']}.tipo_de_cambio (\n",
    "    date VARCHAR(10) distkey,\n",
    "    tipo_cambio_bna_vendedor decimal(3,2)\n",
    ") sortkey(date);\n",
    "\"\"\")\n",
    "conn.commit()\n",
    "cursor.close()\n",
    "print(\"Table created!\")"
   ]
  },
  {
   "cell_type": "markdown",
   "id": "5b17c1e0-26dd-4e01-bb9d-27b106643836",
   "metadata": {
    "tags": []
   },
   "source": [
    "# Carga de Tablas"
   ]
  },
  {
   "cell_type": "markdown",
   "id": "81129106-1fd2-49b6-9de0-1bcb46180596",
   "metadata": {
    "tags": []
   },
   "source": [
    "## Iniciar Sesión de Spark"
   ]
  },
  {
   "cell_type": "code",
   "execution_count": 65,
   "id": "f2993609-2a68-4a99-8806-20cc39101754",
   "metadata": {
    "tags": []
   },
   "outputs": [],
   "source": [
    "# Postgres and Redshift JDBCs\n",
    "driver_path = \"/home/coder/working_dir/driver_jdbc/postgresql-42.2.27.jre7.jar\"\n",
    "\n",
    "# Seteo de variables de entorno para que Pyspark cargue los drivers correspondientes\n",
    "os.environ['PYSPARK_SUBMIT_ARGS'] = f'--driver-class-path {driver_path} --jars {driver_path} pyspark-shell'\n",
    "os.environ['SPARK_CLASSPATH'] = driver_path\n",
    "\n",
    "# Create SparkSession \n",
    "spark = SparkSession.builder \\\n",
    "        .master(\"local\") \\\n",
    "        .appName(\"Conexion entre Pyspark y Redshift\") \\\n",
    "        .config(\"spark.jars\", driver_path) \\\n",
    "        .config(\"spark.executor.extraClassPath\", driver_path) \\\n",
    "        .getOrCreate()"
   ]
  },
  {
   "cell_type": "markdown",
   "id": "d6e4ca68-5840-48b4-aa7e-ca281921e509",
   "metadata": {
    "tags": []
   },
   "source": [
    "## Tabla de Actividad económica"
   ]
  },
  {
   "cell_type": "markdown",
   "id": "ddbeb6c5-ab74-4cfb-9556-76db5d1d219d",
   "metadata": {},
   "source": [
    "Crear dataframe de Pyspark para guardar los resultados de la consulta a la API"
   ]
  },
  {
   "cell_type": "code",
   "execution_count": 26,
   "id": "514d4e49-35da-4048-9bc7-7e6fd88cb8e2",
   "metadata": {
    "tags": []
   },
   "outputs": [],
   "source": [
    "df_emae_to_write = spark.createDataFrame(df_emae, [\"date\", \"EMAE\", \"variacion\"])"
   ]
  },
  {
   "cell_type": "code",
   "execution_count": 27,
   "id": "e34ee135-0515-45ea-bc01-3ae0c64d3c60",
   "metadata": {
    "tags": []
   },
   "outputs": [
    {
     "name": "stdout",
     "output_type": "stream",
     "text": [
      "root\n",
      " |-- date: string (nullable = true)\n",
      " |-- EMAE: double (nullable = true)\n",
      " |-- variacion: double (nullable = true)\n",
      "\n",
      "+----------+------------------+-------------------+\n",
      "|      date|              EMAE|          variacion|\n",
      "+----------+------------------+-------------------+\n",
      "|2013-03-01|149.40394566736484|  5.043770324548916|\n",
      "|2013-04-01|155.94159584157654| 11.581420498760622|\n",
      "|2013-05-01| 167.9734791225302| 23.613303779714272|\n",
      "|2013-06-01|156.27186443024067| 11.911689087424747|\n",
      "|2013-07-01|150.73100129825897|  6.370825955443053|\n",
      "|2013-08-01|148.42144953050052|  4.061274187684603|\n",
      "|2013-09-01| 147.0048441881334|  2.644668845317483|\n",
      "|2013-10-01| 148.6939593959755|  4.333784053159576|\n",
      "|2013-11-01|145.69589762827002| 1.3357222854540964|\n",
      "|2013-12-01| 142.5768791271264|-1.7832962156895178|\n",
      "|2014-01-01|137.96969739537636| -6.390477947439564|\n",
      "|2014-02-01|132.48630687243056| -11.87386847038536|\n",
      "|2014-03-01|144.53782808347017|0.17765274065425274|\n",
      "|2014-04-01|152.34143546147135| 7.9812601186554275|\n",
      "|2014-05-01|164.20324390256107|  19.84306855974515|\n",
      "|2014-06-01|153.80352402990053|  9.443348687084608|\n",
      "|2014-07-01| 145.4228137340859|  1.062638391269985|\n",
      "|2014-08-01|140.10530396605887| -4.254871376757052|\n",
      "|2014-09-01|141.71873319955728|-2.6414421432586437|\n",
      "|2014-10-01| 143.3493974176129|-1.0107779252030298|\n",
      "+----------+------------------+-------------------+\n",
      "only showing top 20 rows\n",
      "\n"
     ]
    }
   ],
   "source": [
    "df_emae_to_write.printSchema()\n",
    "df_emae_to_write.show()"
   ]
  },
  {
   "cell_type": "code",
   "execution_count": 28,
   "id": "43476a56-7289-4b2c-b3ea-0e0dc62687bd",
   "metadata": {
    "tags": []
   },
   "outputs": [],
   "source": [
    "# Insertar datos en la tabla de Redshift\n",
    "df_emae_to_write.write \\\n",
    "    .format(\"jdbc\") \\\n",
    "    .option(\"url\", f\"jdbc:postgresql://{env['REDSHIFT_URL']}:{env['REDSHIFT_PORT']}/{env['REDSHIFT_DATABASE']}\") \\\n",
    "    .option(\"dbtable\", f\"{env['REDSHIFT_SCHEMA']}.actividad_economica\") \\\n",
    "    .option(\"user\", env['REDSHIFT_USER']) \\\n",
    "    .option(\"password\", env['REDSHIFT_PASSWORD']) \\\n",
    "    .option(\"driver\", \"org.postgresql.Driver\") \\\n",
    "    .mode(\"overwrite\") \\\n",
    "    .save()"
   ]
  },
  {
   "cell_type": "markdown",
   "id": "0c7bd6bb-4edf-43f6-a2fa-89e94b5ecfbe",
   "metadata": {
    "tags": []
   },
   "source": [
    "## Tabla de Canasta Básica"
   ]
  },
  {
   "cell_type": "code",
   "execution_count": 29,
   "id": "62b1909a-19da-4623-bfc2-2e86c48d270d",
   "metadata": {
    "tags": []
   },
   "outputs": [
    {
     "name": "stdout",
     "output_type": "stream",
     "text": [
      "root\n",
      " |-- date: string (nullable = true)\n",
      " |-- canasta_basica_alimentaria: double (nullable = true)\n",
      " |-- canasta_basica_total: double (nullable = true)\n",
      "\n",
      "+----------+--------------------------+--------------------+\n",
      "|      date|canasta_basica_alimentaria|canasta_basica_total|\n",
      "+----------+--------------------------+--------------------+\n",
      "|2013-01-01|                   2634.91|             5813.43|\n",
      "|2013-02-01|                   2645.91|             5852.52|\n",
      "|2013-03-01|                   2676.89|             5974.26|\n",
      "|2013-04-01|                   2702.55|              6074.8|\n",
      "|2013-05-01|                   2713.25|             6150.23|\n",
      "|2013-06-01|                   2773.94|              6272.0|\n",
      "|2013-07-01|                    2879.6|              6478.7|\n",
      "|2013-08-01|                   3016.21|             6653.45|\n",
      "|2013-09-01|                   3090.68|             6805.64|\n",
      "|2013-10-01|                   3203.54|             6992.68|\n",
      "|2013-11-01|                   3260.61|             7125.02|\n",
      "|2013-12-01|                    3354.6|             7276.73|\n",
      "|2014-01-01|                   3446.27|             7539.93|\n",
      "|2014-02-01|                   3705.11|             7927.15|\n",
      "|2014-03-01|                   3834.73|             8201.46|\n",
      "|2014-04-01|                   3884.04|              8484.0|\n",
      "|2014-05-01|                   3916.44|             8695.42|\n",
      "|2014-06-01|                   3992.78|             8873.93|\n",
      "|2014-07-01|                   4035.07|             9022.29|\n",
      "|2014-08-01|                   4111.16|             9246.33|\n",
      "+----------+--------------------------+--------------------+\n",
      "only showing top 20 rows\n",
      "\n"
     ]
    }
   ],
   "source": [
    "df_canasta_to_write = spark.createDataFrame(df_canasta, [\"date\", \"canasta_basica_alimentaria\", \"canasta_basica_total\"])\n",
    "df_canasta_to_write.printSchema()\n",
    "df_canasta_to_write.show()"
   ]
  },
  {
   "cell_type": "code",
   "execution_count": 30,
   "id": "23d3f78f-6616-4e42-8a3f-450ab5d0b76e",
   "metadata": {
    "tags": []
   },
   "outputs": [],
   "source": [
    "# Insertar datos en la tabla de Redshift\n",
    "df_canasta_to_write.write \\\n",
    "    .format(\"jdbc\") \\\n",
    "    .option(\"url\", f\"jdbc:postgresql://{env['REDSHIFT_URL']}:{env['REDSHIFT_PORT']}/{env['REDSHIFT_DATABASE']}\") \\\n",
    "    .option(\"dbtable\", f\"{env['REDSHIFT_SCHEMA']}.canasta_basica\") \\\n",
    "    .option(\"user\", env['REDSHIFT_USER']) \\\n",
    "    .option(\"password\", env['REDSHIFT_PASSWORD']) \\\n",
    "    .option(\"driver\", \"org.postgresql.Driver\") \\\n",
    "    .mode(\"overwrite\") \\\n",
    "    .save()"
   ]
  },
  {
   "cell_type": "markdown",
   "id": "065fcbf4-4815-488c-a8c1-6c028bfe5120",
   "metadata": {
    "tags": []
   },
   "source": [
    "## Tabla de Tipo de Cambio"
   ]
  },
  {
   "cell_type": "code",
   "execution_count": 31,
   "id": "2cde789e-7e8a-4e52-b0de-4ca95027ac40",
   "metadata": {
    "tags": []
   },
   "outputs": [
    {
     "name": "stdout",
     "output_type": "stream",
     "text": [
      "root\n",
      " |-- date: string (nullable = true)\n",
      " |-- tipo_cambio_bna_vendedor: double (nullable = true)\n",
      "\n",
      "+----------+------------------------+\n",
      "|      date|tipo_cambio_bna_vendedor|\n",
      "+----------+------------------------+\n",
      "|2014-11-04|                    8.51|\n",
      "|2014-11-05|                    8.51|\n",
      "|2014-11-06|                    8.51|\n",
      "|2014-11-07|                    8.51|\n",
      "|2014-11-08|                    8.51|\n",
      "|2014-11-09|                    8.51|\n",
      "|2014-11-10|                    8.51|\n",
      "|2014-11-11|                    8.51|\n",
      "|2014-11-12|                    8.51|\n",
      "|2014-11-13|                    8.51|\n",
      "|2014-11-14|                    8.51|\n",
      "|2014-11-15|                    8.51|\n",
      "|2014-11-16|                    8.51|\n",
      "|2014-11-17|                    8.51|\n",
      "|2014-11-18|                    8.51|\n",
      "|2014-11-19|                    8.51|\n",
      "|2014-11-20|                    8.52|\n",
      "|2014-11-21|                    8.52|\n",
      "|2014-11-22|                    8.52|\n",
      "|2014-11-23|                    8.52|\n",
      "+----------+------------------------+\n",
      "only showing top 20 rows\n",
      "\n"
     ]
    }
   ],
   "source": [
    "df_cambio_to_write = spark.createDataFrame(df_cambio2, [\"date\", \"tipo_cambio_bna_vendedor\"])\n",
    "df_cambio_to_write.printSchema()\n",
    "df_cambio_to_write.show()"
   ]
  },
  {
   "cell_type": "code",
   "execution_count": 32,
   "id": "6a61eeeb-243c-4ac1-b22a-2fd039b5ad7d",
   "metadata": {
    "tags": []
   },
   "outputs": [],
   "source": [
    "# Insertar datos en la tabla de Redshift\n",
    "df_cambio_to_write.write \\\n",
    "    .format(\"jdbc\") \\\n",
    "    .option(\"url\", f\"jdbc:postgresql://{env['REDSHIFT_URL']}:{env['REDSHIFT_PORT']}/{env['REDSHIFT_DATABASE']}\") \\\n",
    "    .option(\"dbtable\", f\"{env['REDSHIFT_SCHEMA']}.tipo_de_cambio\") \\\n",
    "    .option(\"user\", env['REDSHIFT_USER']) \\\n",
    "    .option(\"password\", env['REDSHIFT_PASSWORD']) \\\n",
    "    .option(\"driver\", \"org.postgresql.Driver\") \\\n",
    "    .mode(\"overwrite\") \\\n",
    "    .save()"
   ]
  },
  {
   "cell_type": "markdown",
   "id": "1c494874-ef67-4e07-b871-ea154076140b",
   "metadata": {
    "tags": []
   },
   "source": [
    "# Análisis comparativo"
   ]
  },
  {
   "cell_type": "markdown",
   "id": "0c8d79d5-6c57-4cf8-bad9-01f619ed0618",
   "metadata": {},
   "source": [
    "El objetivo es tener en una tabla la comparación de el índice de actividad económica, el valor de la canasta básica en pesos, el tipo de cambio y el valor de la canasta básica en dólares para analizar la variación de estas variables mes a mes."
   ]
  },
  {
   "cell_type": "markdown",
   "id": "e6e859c5-1026-4865-bd44-4b930d104c5f",
   "metadata": {},
   "source": [
    "## Preparación de columna date para hacer el merge"
   ]
  },
  {
   "cell_type": "code",
   "execution_count": 43,
   "id": "0916e0fd-2395-4104-a641-8cb1b63e871a",
   "metadata": {
    "tags": []
   },
   "outputs": [
    {
     "data": {
      "text/html": [
       "<div>\n",
       "<style scoped>\n",
       "    .dataframe tbody tr th:only-of-type {\n",
       "        vertical-align: middle;\n",
       "    }\n",
       "\n",
       "    .dataframe tbody tr th {\n",
       "        vertical-align: top;\n",
       "    }\n",
       "\n",
       "    .dataframe thead th {\n",
       "        text-align: right;\n",
       "    }\n",
       "</style>\n",
       "<table border=\"1\" class=\"dataframe\">\n",
       "  <thead>\n",
       "    <tr style=\"text-align: right;\">\n",
       "      <th></th>\n",
       "      <th>date</th>\n",
       "      <th>tipo_cambio_bna_vendedor</th>\n",
       "    </tr>\n",
       "  </thead>\n",
       "  <tbody>\n",
       "    <tr>\n",
       "      <th>4627</th>\n",
       "      <td>2014-11</td>\n",
       "      <td>8.51</td>\n",
       "    </tr>\n",
       "    <tr>\n",
       "      <th>4628</th>\n",
       "      <td>2014-11</td>\n",
       "      <td>8.51</td>\n",
       "    </tr>\n",
       "    <tr>\n",
       "      <th>4629</th>\n",
       "      <td>2014-11</td>\n",
       "      <td>8.51</td>\n",
       "    </tr>\n",
       "    <tr>\n",
       "      <th>4630</th>\n",
       "      <td>2014-11</td>\n",
       "      <td>8.51</td>\n",
       "    </tr>\n",
       "    <tr>\n",
       "      <th>4631</th>\n",
       "      <td>2014-11</td>\n",
       "      <td>8.51</td>\n",
       "    </tr>\n",
       "  </tbody>\n",
       "</table>\n",
       "</div>"
      ],
      "text/plain": [
       "         date  tipo_cambio_bna_vendedor\n",
       "4627  2014-11                      8.51\n",
       "4628  2014-11                      8.51\n",
       "4629  2014-11                      8.51\n",
       "4630  2014-11                      8.51\n",
       "4631  2014-11                      8.51"
      ]
     },
     "execution_count": 43,
     "metadata": {},
     "output_type": "execute_result"
    }
   ],
   "source": [
    "# La tabla de tipo de cambio tiene frecuencia diaria, es necesario pasarla a registros mensuales para poder comparar \n",
    "# con las otras tablas\n",
    "import datetime as dt\n",
    "\n",
    "# Se convierte la columna date en clase datetime y luego se convierte a formato mensual\n",
    "df_cambio3 = df_cambio2.copy()\n",
    "df_cambio3['date'] = [dt.datetime.strptime(fecha, '%Y-%m-%d') for fecha in df_cambio2.date]\n",
    "df_cambio3['date'] = df_cambio3['date'].dt.to_period('M')\n",
    "df_cambio3.head()"
   ]
  },
  {
   "cell_type": "code",
   "execution_count": 44,
   "id": "f6a21048-05f2-41fd-a61f-96e2baa33843",
   "metadata": {
    "tags": []
   },
   "outputs": [
    {
     "data": {
      "text/html": [
       "<div>\n",
       "<style scoped>\n",
       "    .dataframe tbody tr th:only-of-type {\n",
       "        vertical-align: middle;\n",
       "    }\n",
       "\n",
       "    .dataframe tbody tr th {\n",
       "        vertical-align: top;\n",
       "    }\n",
       "\n",
       "    .dataframe thead th {\n",
       "        text-align: right;\n",
       "    }\n",
       "</style>\n",
       "<table border=\"1\" class=\"dataframe\">\n",
       "  <thead>\n",
       "    <tr style=\"text-align: right;\">\n",
       "      <th></th>\n",
       "      <th>tipo_cambio_bna_vendedor</th>\n",
       "    </tr>\n",
       "    <tr>\n",
       "      <th>date</th>\n",
       "      <th></th>\n",
       "    </tr>\n",
       "  </thead>\n",
       "  <tbody>\n",
       "    <tr>\n",
       "      <th>2014-11</th>\n",
       "      <td>8.515185</td>\n",
       "    </tr>\n",
       "    <tr>\n",
       "      <th>2014-12</th>\n",
       "      <td>8.556452</td>\n",
       "    </tr>\n",
       "    <tr>\n",
       "      <th>2015-01</th>\n",
       "      <td>8.602903</td>\n",
       "    </tr>\n",
       "    <tr>\n",
       "      <th>2015-02</th>\n",
       "      <td>8.684107</td>\n",
       "    </tr>\n",
       "    <tr>\n",
       "      <th>2015-03</th>\n",
       "      <td>8.780323</td>\n",
       "    </tr>\n",
       "    <tr>\n",
       "      <th>...</th>\n",
       "      <td>...</td>\n",
       "    </tr>\n",
       "    <tr>\n",
       "      <th>2022-12</th>\n",
       "      <td>178.790323</td>\n",
       "    </tr>\n",
       "    <tr>\n",
       "      <th>2023-01</th>\n",
       "      <td>188.798387</td>\n",
       "    </tr>\n",
       "    <tr>\n",
       "      <th>2023-02</th>\n",
       "      <td>198.401786</td>\n",
       "    </tr>\n",
       "    <tr>\n",
       "      <th>2023-03</th>\n",
       "      <td>209.580645</td>\n",
       "    </tr>\n",
       "    <tr>\n",
       "      <th>2023-04</th>\n",
       "      <td>222.250000</td>\n",
       "    </tr>\n",
       "  </tbody>\n",
       "</table>\n",
       "<p>102 rows × 1 columns</p>\n",
       "</div>"
      ],
      "text/plain": [
       "         tipo_cambio_bna_vendedor\n",
       "date                             \n",
       "2014-11                  8.515185\n",
       "2014-12                  8.556452\n",
       "2015-01                  8.602903\n",
       "2015-02                  8.684107\n",
       "2015-03                  8.780323\n",
       "...                           ...\n",
       "2022-12                178.790323\n",
       "2023-01                188.798387\n",
       "2023-02                198.401786\n",
       "2023-03                209.580645\n",
       "2023-04                222.250000\n",
       "\n",
       "[102 rows x 1 columns]"
      ]
     },
     "execution_count": 44,
     "metadata": {},
     "output_type": "execute_result"
    }
   ],
   "source": [
    "# Ahora se puede agrupar por mes y calcular el promedio del tipo de cambio\n",
    "df_cambio_final = df_cambio3.groupby(['date']).mean()\n",
    "df_cambio_final"
   ]
  },
  {
   "cell_type": "code",
   "execution_count": 49,
   "id": "abe159b1-f5e2-4508-bd17-8055034941bc",
   "metadata": {
    "tags": []
   },
   "outputs": [
    {
     "data": {
      "text/html": [
       "<div>\n",
       "<style scoped>\n",
       "    .dataframe tbody tr th:only-of-type {\n",
       "        vertical-align: middle;\n",
       "    }\n",
       "\n",
       "    .dataframe tbody tr th {\n",
       "        vertical-align: top;\n",
       "    }\n",
       "\n",
       "    .dataframe thead th {\n",
       "        text-align: right;\n",
       "    }\n",
       "</style>\n",
       "<table border=\"1\" class=\"dataframe\">\n",
       "  <thead>\n",
       "    <tr style=\"text-align: right;\">\n",
       "      <th></th>\n",
       "      <th>date</th>\n",
       "      <th>canasta_basica_alimentaria</th>\n",
       "      <th>canasta_basica_total</th>\n",
       "    </tr>\n",
       "  </thead>\n",
       "  <tbody>\n",
       "    <tr>\n",
       "      <th>0</th>\n",
       "      <td>2013-01</td>\n",
       "      <td>2634.91</td>\n",
       "      <td>5813.43</td>\n",
       "    </tr>\n",
       "    <tr>\n",
       "      <th>1</th>\n",
       "      <td>2013-02</td>\n",
       "      <td>2645.91</td>\n",
       "      <td>5852.52</td>\n",
       "    </tr>\n",
       "    <tr>\n",
       "      <th>2</th>\n",
       "      <td>2013-03</td>\n",
       "      <td>2676.89</td>\n",
       "      <td>5974.26</td>\n",
       "    </tr>\n",
       "    <tr>\n",
       "      <th>3</th>\n",
       "      <td>2013-04</td>\n",
       "      <td>2702.55</td>\n",
       "      <td>6074.80</td>\n",
       "    </tr>\n",
       "    <tr>\n",
       "      <th>4</th>\n",
       "      <td>2013-05</td>\n",
       "      <td>2713.25</td>\n",
       "      <td>6150.23</td>\n",
       "    </tr>\n",
       "  </tbody>\n",
       "</table>\n",
       "</div>"
      ],
      "text/plain": [
       "      date  canasta_basica_alimentaria  canasta_basica_total\n",
       "0  2013-01                     2634.91               5813.43\n",
       "1  2013-02                     2645.91               5852.52\n",
       "2  2013-03                     2676.89               5974.26\n",
       "3  2013-04                     2702.55               6074.80\n",
       "4  2013-05                     2713.25               6150.23"
      ]
     },
     "execution_count": 49,
     "metadata": {},
     "output_type": "execute_result"
    }
   ],
   "source": [
    "# Modificamos la columna date de canasta básica para que tenga el mismo formato que en la tabla tipo de cambio\n",
    "df_canasta_final = df_canasta.copy()\n",
    "df_canasta_final['date'] = [dt.datetime.strptime(fecha, '%Y-%m-%d') for fecha in df_canasta['date']]\n",
    "df_canasta_final['date'] = df_canasta_final['date'].dt.to_period('M')\n",
    "df_canasta_final.head()"
   ]
  },
  {
   "cell_type": "code",
   "execution_count": 50,
   "id": "f80f6889-7a1a-45aa-8091-1be6423b6afd",
   "metadata": {
    "tags": []
   },
   "outputs": [
    {
     "data": {
      "text/html": [
       "<div>\n",
       "<style scoped>\n",
       "    .dataframe tbody tr th:only-of-type {\n",
       "        vertical-align: middle;\n",
       "    }\n",
       "\n",
       "    .dataframe tbody tr th {\n",
       "        vertical-align: top;\n",
       "    }\n",
       "\n",
       "    .dataframe thead th {\n",
       "        text-align: right;\n",
       "    }\n",
       "</style>\n",
       "<table border=\"1\" class=\"dataframe\">\n",
       "  <thead>\n",
       "    <tr style=\"text-align: right;\">\n",
       "      <th></th>\n",
       "      <th>date</th>\n",
       "      <th>EMAE</th>\n",
       "      <th>variacion</th>\n",
       "    </tr>\n",
       "  </thead>\n",
       "  <tbody>\n",
       "    <tr>\n",
       "      <th>0</th>\n",
       "      <td>2013-03</td>\n",
       "      <td>149.403946</td>\n",
       "      <td>5.043770</td>\n",
       "    </tr>\n",
       "    <tr>\n",
       "      <th>1</th>\n",
       "      <td>2013-04</td>\n",
       "      <td>155.941596</td>\n",
       "      <td>11.581420</td>\n",
       "    </tr>\n",
       "    <tr>\n",
       "      <th>2</th>\n",
       "      <td>2013-05</td>\n",
       "      <td>167.973479</td>\n",
       "      <td>23.613304</td>\n",
       "    </tr>\n",
       "    <tr>\n",
       "      <th>3</th>\n",
       "      <td>2013-06</td>\n",
       "      <td>156.271864</td>\n",
       "      <td>11.911689</td>\n",
       "    </tr>\n",
       "    <tr>\n",
       "      <th>4</th>\n",
       "      <td>2013-07</td>\n",
       "      <td>150.731001</td>\n",
       "      <td>6.370826</td>\n",
       "    </tr>\n",
       "  </tbody>\n",
       "</table>\n",
       "</div>"
      ],
      "text/plain": [
       "      date        EMAE  variacion\n",
       "0  2013-03  149.403946   5.043770\n",
       "1  2013-04  155.941596  11.581420\n",
       "2  2013-05  167.973479  23.613304\n",
       "3  2013-06  156.271864  11.911689\n",
       "4  2013-07  150.731001   6.370826"
      ]
     },
     "execution_count": 50,
     "metadata": {},
     "output_type": "execute_result"
    }
   ],
   "source": [
    "# Modificamos la columna date de actividad económica para que tenga el mismo formato que en la tabla tipo de cambio\n",
    "df_emae_final = df_emae.copy()\n",
    "df_emae_final['date'] = [dt.datetime.strptime(fecha, '%Y-%m-%d') for fecha in df_emae['date']]\n",
    "df_emae_final['date'] = df_emae_final['date'].dt.to_period('M')\n",
    "df_emae_final.head()"
   ]
  },
  {
   "cell_type": "markdown",
   "id": "c1fdd707-6ba1-4a9c-9041-41cf90237d5f",
   "metadata": {},
   "source": [
    "## Merge de Tablas"
   ]
  },
  {
   "cell_type": "code",
   "execution_count": 56,
   "id": "5294eb3f-633d-4b55-8137-8e8a8ace929a",
   "metadata": {
    "tags": []
   },
   "outputs": [
    {
     "data": {
      "text/html": [
       "<div>\n",
       "<style scoped>\n",
       "    .dataframe tbody tr th:only-of-type {\n",
       "        vertical-align: middle;\n",
       "    }\n",
       "\n",
       "    .dataframe tbody tr th {\n",
       "        vertical-align: top;\n",
       "    }\n",
       "\n",
       "    .dataframe thead th {\n",
       "        text-align: right;\n",
       "    }\n",
       "</style>\n",
       "<table border=\"1\" class=\"dataframe\">\n",
       "  <thead>\n",
       "    <tr style=\"text-align: right;\">\n",
       "      <th></th>\n",
       "      <th>date</th>\n",
       "      <th>tipo_cambio_bna_vendedor</th>\n",
       "      <th>canasta_basica_alimentaria</th>\n",
       "      <th>canasta_basica_total</th>\n",
       "      <th>EMAE</th>\n",
       "      <th>variacion</th>\n",
       "    </tr>\n",
       "  </thead>\n",
       "  <tbody>\n",
       "    <tr>\n",
       "      <th>0</th>\n",
       "      <td>2014-11</td>\n",
       "      <td>8.515185</td>\n",
       "      <td>4354.29</td>\n",
       "      <td>9821.03</td>\n",
       "      <td>140.877597</td>\n",
       "      <td>-3.482578</td>\n",
       "    </tr>\n",
       "    <tr>\n",
       "      <th>1</th>\n",
       "      <td>2014-12</td>\n",
       "      <td>8.556452</td>\n",
       "      <td>4406.42</td>\n",
       "      <td>9940.26</td>\n",
       "      <td>140.435938</td>\n",
       "      <td>-3.924238</td>\n",
       "    </tr>\n",
       "    <tr>\n",
       "      <th>2</th>\n",
       "      <td>2015-01</td>\n",
       "      <td>8.602903</td>\n",
       "      <td>4535.51</td>\n",
       "      <td>10140.82</td>\n",
       "      <td>133.998189</td>\n",
       "      <td>-10.361986</td>\n",
       "    </tr>\n",
       "    <tr>\n",
       "      <th>3</th>\n",
       "      <td>2015-02</td>\n",
       "      <td>8.684107</td>\n",
       "      <td>4569.90</td>\n",
       "      <td>10226.35</td>\n",
       "      <td>132.627887</td>\n",
       "      <td>-11.732288</td>\n",
       "    </tr>\n",
       "    <tr>\n",
       "      <th>4</th>\n",
       "      <td>2015-03</td>\n",
       "      <td>8.780323</td>\n",
       "      <td>4624.77</td>\n",
       "      <td>10399.31</td>\n",
       "      <td>149.409013</td>\n",
       "      <td>5.048838</td>\n",
       "    </tr>\n",
       "  </tbody>\n",
       "</table>\n",
       "</div>"
      ],
      "text/plain": [
       "      date  tipo_cambio_bna_vendedor  canasta_basica_alimentaria   \n",
       "0  2014-11                  8.515185                     4354.29  \\\n",
       "1  2014-12                  8.556452                     4406.42   \n",
       "2  2015-01                  8.602903                     4535.51   \n",
       "3  2015-02                  8.684107                     4569.90   \n",
       "4  2015-03                  8.780323                     4624.77   \n",
       "\n",
       "   canasta_basica_total        EMAE  variacion  \n",
       "0               9821.03  140.877597  -3.482578  \n",
       "1               9940.26  140.435938  -3.924238  \n",
       "2              10140.82  133.998189 -10.361986  \n",
       "3              10226.35  132.627887 -11.732288  \n",
       "4              10399.31  149.409013   5.048838  "
      ]
     },
     "execution_count": 56,
     "metadata": {},
     "output_type": "execute_result"
    }
   ],
   "source": [
    "analisis_comparativo = pd.merge(df_cambio_final, \n",
    "                                df_canasta_final,\n",
    "                                on='date').merge(df_emae_final, on='date')\n",
    "analisis_comparativo.head()\n",
    "  "
   ]
  },
  {
   "cell_type": "code",
   "execution_count": 57,
   "id": "b6a0a485-9b17-467c-9369-cb8a144c1ac4",
   "metadata": {
    "tags": []
   },
   "outputs": [
    {
     "data": {
      "text/plain": [
       "(49, 6)"
      ]
     },
     "execution_count": 57,
     "metadata": {},
     "output_type": "execute_result"
    }
   ],
   "source": [
    "analisis_comparativo.shape"
   ]
  },
  {
   "cell_type": "code",
   "execution_count": 58,
   "id": "4a1e5d1c-28ca-43cc-9caf-794022f72b68",
   "metadata": {
    "tags": []
   },
   "outputs": [],
   "source": [
    "# Se descarta la columna variacion\n",
    "analisis_comparativo.drop(columns=['variacion'], inplace=True)"
   ]
  },
  {
   "cell_type": "code",
   "execution_count": 62,
   "id": "1eebcbed-f5bc-4b33-bcb4-eb7152dba3f9",
   "metadata": {
    "tags": []
   },
   "outputs": [
    {
     "data": {
      "text/html": [
       "<div>\n",
       "<style scoped>\n",
       "    .dataframe tbody tr th:only-of-type {\n",
       "        vertical-align: middle;\n",
       "    }\n",
       "\n",
       "    .dataframe tbody tr th {\n",
       "        vertical-align: top;\n",
       "    }\n",
       "\n",
       "    .dataframe thead th {\n",
       "        text-align: right;\n",
       "    }\n",
       "</style>\n",
       "<table border=\"1\" class=\"dataframe\">\n",
       "  <thead>\n",
       "    <tr style=\"text-align: right;\">\n",
       "      <th></th>\n",
       "      <th>date</th>\n",
       "      <th>tipo_cambio_bna_vendedor</th>\n",
       "      <th>canasta_basica_alimentaria</th>\n",
       "      <th>canasta_basica_total</th>\n",
       "      <th>EMAE</th>\n",
       "      <th>canasta_basica_alimentaria_usd</th>\n",
       "      <th>canasta_basica_total_usd</th>\n",
       "    </tr>\n",
       "  </thead>\n",
       "  <tbody>\n",
       "    <tr>\n",
       "      <th>0</th>\n",
       "      <td>2014-11</td>\n",
       "      <td>8.515185</td>\n",
       "      <td>4354.29</td>\n",
       "      <td>9821.03</td>\n",
       "      <td>140.877597</td>\n",
       "      <td>511.36</td>\n",
       "      <td>1153.35</td>\n",
       "    </tr>\n",
       "    <tr>\n",
       "      <th>1</th>\n",
       "      <td>2014-12</td>\n",
       "      <td>8.556452</td>\n",
       "      <td>4406.42</td>\n",
       "      <td>9940.26</td>\n",
       "      <td>140.435938</td>\n",
       "      <td>514.98</td>\n",
       "      <td>1161.73</td>\n",
       "    </tr>\n",
       "    <tr>\n",
       "      <th>2</th>\n",
       "      <td>2015-01</td>\n",
       "      <td>8.602903</td>\n",
       "      <td>4535.51</td>\n",
       "      <td>10140.82</td>\n",
       "      <td>133.998189</td>\n",
       "      <td>527.21</td>\n",
       "      <td>1178.77</td>\n",
       "    </tr>\n",
       "    <tr>\n",
       "      <th>3</th>\n",
       "      <td>2015-02</td>\n",
       "      <td>8.684107</td>\n",
       "      <td>4569.90</td>\n",
       "      <td>10226.35</td>\n",
       "      <td>132.627887</td>\n",
       "      <td>526.24</td>\n",
       "      <td>1177.59</td>\n",
       "    </tr>\n",
       "    <tr>\n",
       "      <th>4</th>\n",
       "      <td>2015-03</td>\n",
       "      <td>8.780323</td>\n",
       "      <td>4624.77</td>\n",
       "      <td>10399.31</td>\n",
       "      <td>149.409013</td>\n",
       "      <td>526.72</td>\n",
       "      <td>1184.39</td>\n",
       "    </tr>\n",
       "  </tbody>\n",
       "</table>\n",
       "</div>"
      ],
      "text/plain": [
       "      date  tipo_cambio_bna_vendedor  canasta_basica_alimentaria   \n",
       "0  2014-11                  8.515185                     4354.29  \\\n",
       "1  2014-12                  8.556452                     4406.42   \n",
       "2  2015-01                  8.602903                     4535.51   \n",
       "3  2015-02                  8.684107                     4569.90   \n",
       "4  2015-03                  8.780323                     4624.77   \n",
       "\n",
       "   canasta_basica_total        EMAE  canasta_basica_alimentaria_usd   \n",
       "0               9821.03  140.877597                          511.36  \\\n",
       "1               9940.26  140.435938                          514.98   \n",
       "2              10140.82  133.998189                          527.21   \n",
       "3              10226.35  132.627887                          526.24   \n",
       "4              10399.31  149.409013                          526.72   \n",
       "\n",
       "   canasta_basica_total_usd  \n",
       "0                   1153.35  \n",
       "1                   1161.73  \n",
       "2                   1178.77  \n",
       "3                   1177.59  \n",
       "4                   1184.39  "
      ]
     },
     "execution_count": 62,
     "metadata": {},
     "output_type": "execute_result"
    }
   ],
   "source": [
    "# Se agregan las columnas con la canasta básica expresada en dólares\n",
    "analisis_comparativo['canasta_basica_alimentaria_usd'] = round(analisis_comparativo['canasta_basica_alimentaria'] / analisis_comparativo['tipo_cambio_bna_vendedor'], 2)\n",
    "analisis_comparativo['canasta_basica_total_usd']= round(analisis_comparativo['canasta_basica_total'] / analisis_comparativo['tipo_cambio_bna_vendedor'], 2)\n",
    "analisis_comparativo.head()"
   ]
  },
  {
   "cell_type": "markdown",
   "id": "1cf8f4ac-3b8a-4f54-a41d-16fc1152ed81",
   "metadata": {},
   "source": [
    "## Creación de tabla y carga de datos en Redshift"
   ]
  },
  {
   "cell_type": "code",
   "execution_count": 67,
   "id": "9b0438cd-ae04-47e8-a809-2e3d44cf8fd6",
   "metadata": {
    "tags": []
   },
   "outputs": [
    {
     "name": "stdout",
     "output_type": "stream",
     "text": [
      "Table created!\n"
     ]
    }
   ],
   "source": [
    "cursor = conn.cursor()\n",
    "cursor.execute(f\"\"\"\n",
    "create table if not exists {env['REDSHIFT_SCHEMA']}.analisis_comparativo (\n",
    "    date VARCHAR(10) distkey,\n",
    "    tipo_cambio_bna_vendedor decimal(3,2),\n",
    "    canasta_basica_alimentaria decimal(6,2),\n",
    "    canasta_basica_total decimal(6,2),\n",
    "    emae decimal(5,2),\n",
    "    canasta_basica_alimentaria_usd decimal(4,2),\n",
    "    canasta_basica_total_usd decimal(4,2)\n",
    ") sortkey(date);\n",
    "\"\"\")\n",
    "conn.commit()\n",
    "cursor.close()\n",
    "print(\"Table created!\")"
   ]
  },
  {
   "cell_type": "code",
   "execution_count": 72,
   "id": "c5a93f8a-1a67-459b-b906-c3c036a0dcf8",
   "metadata": {
    "tags": []
   },
   "outputs": [],
   "source": [
    "# Al crear el dataframe de Spark no toma bien la clase del datetime\n",
    "# Por lo tanto, se convierte la columna date de vuelta a string para poder cargarlo en Redshift\n",
    "analisis_comparativo['date'] = [time.strftime('%Y-%m') for time in analisis_comparativo['date']]"
   ]
  },
  {
   "cell_type": "code",
   "execution_count": 74,
   "id": "f5142e75-a695-4d40-aa09-08a334610fa2",
   "metadata": {
    "tags": []
   },
   "outputs": [
    {
     "name": "stdout",
     "output_type": "stream",
     "text": [
      "root\n",
      " |-- date: string (nullable = true)\n",
      " |-- tipo_cambio_bna_vendedor: double (nullable = true)\n",
      " |-- canasta_basica_alimentaria: double (nullable = true)\n",
      " |-- canasta_basica_total: double (nullable = true)\n",
      " |-- EMAE: double (nullable = true)\n",
      " |-- canasta_basica_alimentaria_usd: double (nullable = true)\n",
      " |-- canasta_basica_total_usd: double (nullable = true)\n",
      "\n",
      "+-------+------------------------+--------------------------+--------------------+------------------+------------------------------+------------------------+\n",
      "|   date|tipo_cambio_bna_vendedor|canasta_basica_alimentaria|canasta_basica_total|              EMAE|canasta_basica_alimentaria_usd|canasta_basica_total_usd|\n",
      "+-------+------------------------+--------------------------+--------------------+------------------+------------------------------+------------------------+\n",
      "|2014-11|       8.515185185185185|                   4354.29|             9821.03| 140.8775968982631|                        511.36|                 1153.35|\n",
      "|2014-12|       8.556451612903226|                   4406.42|             9940.26| 140.4359377491282|                        514.98|                 1161.73|\n",
      "|2015-01|       8.602903225806452|                   4535.51|            10140.82|133.99818907035032|                        527.21|                 1178.77|\n",
      "|2015-02|       8.684107142857142|                    4569.9|            10226.35|  132.627886955774|                        526.24|                 1177.59|\n",
      "|2015-03|        8.78032258064516|                   4624.77|            10399.31| 149.4090129833281|                        526.72|                 1184.39|\n",
      "|2015-04|       8.860999999999999|                   4693.79|            10710.68| 157.4845995373143|                        529.71|                 1208.74|\n",
      "|2015-05|        8.94774193548387|                   4804.27|            11001.24|168.88610058983411|                        536.93|                  1229.5|\n",
      "|2015-06|       9.041500000000001|                    4791.7|            11081.76|162.93739000912225|                        529.97|                 1225.66|\n",
      "|2015-07|       9.139999999999999|                   4927.82|             11352.1| 151.8447963430633|                        539.15|                 1242.02|\n",
      "|2015-08|       9.245161290322581|                   5074.16|             11606.0|146.46506720486232|                        548.84|                 1255.36|\n",
      "|2015-09|       9.371333333333332|                   5186.32|            11838.23|145.88232371860067|                        553.42|                 1263.24|\n",
      "|2015-10|       9.493064516129033|                   5189.62|            11960.28|147.04587615341626|                        546.67|                  1259.9|\n",
      "|2015-11|       9.633166666666666|                    5245.8|            12143.35|  146.175581385648|                        544.56|                 1260.58|\n",
      "|2015-12|       11.54516129032258|                   5467.03|            12575.91| 141.9421187346255|                        473.53|                 1089.28|\n",
      "|2016-01|      13.770967741935483|                    5741.4|            13068.19|134.74645041349706|                        416.92|                  948.97|\n",
      "|2016-02|      14.927586206896551|                   5994.01|            13519.99| 134.2323610386252|                        401.54|                  905.71|\n",
      "|2016-03|       15.11774193548387|                   6256.86|            14089.54| 150.0878942366954|                        413.88|                  931.99|\n",
      "|2016-04|      14.623333333333333|                   6319.39|            14770.78|153.25067436662908|                        432.14|                 1010.08|\n",
      "|2016-05|      14.329032258064515|                    6622.1|            15604.31|163.51360808690507|                        462.15|                  1089.0|\n",
      "|2016-06|      14.326666666666666|                   6887.83|            16175.66|153.66209524099784|                        480.77|                 1129.06|\n",
      "+-------+------------------------+--------------------------+--------------------+------------------+------------------------------+------------------------+\n",
      "only showing top 20 rows\n",
      "\n"
     ]
    }
   ],
   "source": [
    "analisis_comparativo_to_write = spark.createDataFrame(analisis_comparativo, [column for column in analisis_comparativo.columns])\n",
    "analisis_comparativo_to_write.printSchema()\n",
    "analisis_comparativo_to_write.show()"
   ]
  },
  {
   "cell_type": "code",
   "execution_count": 75,
   "id": "43da9e9e-8cce-4c95-b799-2875d2be7f31",
   "metadata": {
    "tags": []
   },
   "outputs": [],
   "source": [
    "# Insertar datos en la tabla de Redshift\n",
    "analisis_comparativo_to_write.write \\\n",
    "    .format(\"jdbc\") \\\n",
    "    .option(\"url\", f\"jdbc:postgresql://{env['REDSHIFT_URL']}:{env['REDSHIFT_PORT']}/{env['REDSHIFT_DATABASE']}\") \\\n",
    "    .option(\"dbtable\", f\"{env['REDSHIFT_SCHEMA']}.analisis_comparativo\") \\\n",
    "    .option(\"user\", env['REDSHIFT_USER']) \\\n",
    "    .option(\"password\", env['REDSHIFT_PASSWORD']) \\\n",
    "    .option(\"driver\", \"org.postgresql.Driver\") \\\n",
    "    .mode(\"overwrite\") \\\n",
    "    .save()"
   ]
  }
 ],
 "metadata": {
  "kernelspec": {
   "display_name": "Python 3 (ipykernel)",
   "language": "python",
   "name": "python3"
  },
  "language_info": {
   "codemirror_mode": {
    "name": "ipython",
    "version": 3
   },
   "file_extension": ".py",
   "mimetype": "text/x-python",
   "name": "python",
   "nbconvert_exporter": "python",
   "pygments_lexer": "ipython3",
   "version": "3.10.10"
  }
 },
 "nbformat": 4,
 "nbformat_minor": 5
}
