{
 "cells": [
  {
   "cell_type": "markdown",
   "id": "e1b9112d-0f58-4dfe-a2d8-382925768a6a",
   "metadata": {},
   "source": [
    "# CoderHouse - Data Engineering\n",
    "\n",
    "## Entregable N° 2 - Páez Darío"
   ]
  },
  {
   "cell_type": "markdown",
   "id": "ce292ed2-120f-4c83-bc01-328f0b9bf493",
   "metadata": {},
   "source": [
    "# Importación de módulos"
   ]
  },
  {
   "cell_type": "code",
   "execution_count": 1,
   "id": "c03619fe-108a-4c9c-a5a2-a6e1b7c1c813",
   "metadata": {
    "tags": []
   },
   "outputs": [],
   "source": [
    "import os\n",
    "import requests\n",
    "import pandas as pd\n",
    "import seaborn as sns\n",
    "from os import environ as env\n",
    "import matplotlib.pyplot as plt\n",
    "import urllib.parse\n",
    "from pyspark.sql import SparkSession\n",
    "from pyspark.sql.functions import when, lit, col, avg\n",
    "\n",
    "# Seaborn theme\n",
    "sns.set_theme()"
   ]
  },
  {
   "cell_type": "code",
   "execution_count": 50,
   "id": "4650c59e-46c3-4579-8a9c-1de25c328ae2",
   "metadata": {
    "tags": []
   },
   "outputs": [
    {
     "name": "stdout",
     "output_type": "stream",
     "text": [
      "Collecting psycopg2-binary\n",
      "  Downloading psycopg2_binary-2.9.6-cp310-cp310-manylinux_2_17_x86_64.manylinux2014_x86_64.whl (3.0 MB)\n",
      "\u001b[2K     \u001b[90m━━━━━━━━━━━━━━━━━━━━━━━━━━━━━━━━━━━━━━━━\u001b[0m \u001b[32m3.0/3.0 MB\u001b[0m \u001b[31m5.1 MB/s\u001b[0m eta \u001b[36m0:00:00\u001b[0m00:01\u001b[0m00:01\u001b[0m\n",
      "\u001b[?25hInstalling collected packages: psycopg2-binary\n",
      "Successfully installed psycopg2-binary-2.9.6\n"
     ]
    }
   ],
   "source": [
    "# Psycopg\n",
    "!pip install psycopg2-binary"
   ]
  },
  {
   "cell_type": "code",
   "execution_count": 51,
   "id": "81ca29d4-d938-4a17-82d1-d10452e19b54",
   "metadata": {
    "tags": []
   },
   "outputs": [],
   "source": [
    "import psycopg2"
   ]
  },
  {
   "cell_type": "markdown",
   "id": "470bbb20-90ec-489c-8c05-9ecc52d3d254",
   "metadata": {},
   "source": [
    "# Extracción de Datos"
   ]
  },
  {
   "cell_type": "markdown",
   "id": "c220cfd8-4a14-4837-91d2-2620e6e59d73",
   "metadata": {
    "tags": []
   },
   "source": [
    "## API Datos Argentina"
   ]
  },
  {
   "cell_type": "markdown",
   "id": "b9f519d1-e57a-4f4b-8ab5-519cf5859860",
   "metadata": {},
   "source": [
    "Mediante la API pública del gobierno de Argentina se extrae el **EMAE** (Estimador Mensual de Actividad Económica) para el período Marzo-2013 a Junio-2021, debido a que la llamada a la API solo permite extraer de a **100 registros**."
   ]
  },
  {
   "cell_type": "code",
   "execution_count": 2,
   "id": "7163de24-c1b9-49e9-b301-0d8ffb45a973",
   "metadata": {
    "tags": []
   },
   "outputs": [],
   "source": [
    "# Función para formatear la url de conexión con la API\n",
    "def get_api_call(ids, **kwargs):\n",
    "    API_BASE_URL = \"https://apis.datos.gob.ar/series/api/\"\n",
    "    kwargs[\"ids\"] = \",\".join(ids)\n",
    "    return \"{}{}?{}\".format(API_BASE_URL, \"series\", urllib.parse.urlencode(kwargs))"
   ]
  },
  {
   "cell_type": "code",
   "execution_count": 3,
   "id": "742cfa2c-1e62-4c24-ae25-1cad89b81521",
   "metadata": {
    "tags": []
   },
   "outputs": [
    {
     "name": "stdout",
     "output_type": "stream",
     "text": [
      "https://apis.datos.gob.ar/series/api/series?start_date=2013-03-01&end_date=2023-06-01&ids=143.3_NO_PR_2004_A_21\n"
     ]
    }
   ],
   "source": [
    "# Formateo de la url de acuerdo a la variable y período deseados\n",
    "api_call = get_api_call([\"143.3_NO_PR_2004_A_21\"], start_date=\"2013-03-01\", end_date=\"2023-06-01\")\n",
    "print(api_call)"
   ]
  },
  {
   "cell_type": "code",
   "execution_count": 4,
   "id": "1fce7a9f-1376-4f51-b8f8-7b3008eff227",
   "metadata": {
    "tags": []
   },
   "outputs": [],
   "source": [
    "# Respuesta de la API\n",
    "result = requests.get(api_call).json()"
   ]
  },
  {
   "cell_type": "markdown",
   "id": "cdac39eb-7a2a-4c87-b347-35feb89a6d25",
   "metadata": {},
   "source": [
    "### A través de pandas se crea una tabla con los resultados obtenidos de la API"
   ]
  },
  {
   "cell_type": "code",
   "execution_count": 5,
   "id": "c8fba53b-cd74-4201-8a40-226c52d3869b",
   "metadata": {
    "tags": []
   },
   "outputs": [],
   "source": [
    "df_emae = pd.DataFrame(result['data'], columns=['date', 'EMAE'])"
   ]
  },
  {
   "cell_type": "code",
   "execution_count": 6,
   "id": "4355f86f-8886-4f69-9d39-780ed2eec7ee",
   "metadata": {
    "tags": []
   },
   "outputs": [
    {
     "data": {
      "text/html": [
       "<div>\n",
       "<style scoped>\n",
       "    .dataframe tbody tr th:only-of-type {\n",
       "        vertical-align: middle;\n",
       "    }\n",
       "\n",
       "    .dataframe tbody tr th {\n",
       "        vertical-align: top;\n",
       "    }\n",
       "\n",
       "    .dataframe thead th {\n",
       "        text-align: right;\n",
       "    }\n",
       "</style>\n",
       "<table border=\"1\" class=\"dataframe\">\n",
       "  <thead>\n",
       "    <tr style=\"text-align: right;\">\n",
       "      <th></th>\n",
       "      <th>date</th>\n",
       "      <th>EMAE</th>\n",
       "    </tr>\n",
       "  </thead>\n",
       "  <tbody>\n",
       "    <tr>\n",
       "      <th>0</th>\n",
       "      <td>2013-03-01</td>\n",
       "      <td>149.403946</td>\n",
       "    </tr>\n",
       "    <tr>\n",
       "      <th>1</th>\n",
       "      <td>2013-04-01</td>\n",
       "      <td>155.941596</td>\n",
       "    </tr>\n",
       "    <tr>\n",
       "      <th>2</th>\n",
       "      <td>2013-05-01</td>\n",
       "      <td>167.973479</td>\n",
       "    </tr>\n",
       "    <tr>\n",
       "      <th>3</th>\n",
       "      <td>2013-06-01</td>\n",
       "      <td>156.271864</td>\n",
       "    </tr>\n",
       "    <tr>\n",
       "      <th>4</th>\n",
       "      <td>2013-07-01</td>\n",
       "      <td>150.731001</td>\n",
       "    </tr>\n",
       "  </tbody>\n",
       "</table>\n",
       "</div>"
      ],
      "text/plain": [
       "         date        EMAE\n",
       "0  2013-03-01  149.403946\n",
       "1  2013-04-01  155.941596\n",
       "2  2013-05-01  167.973479\n",
       "3  2013-06-01  156.271864\n",
       "4  2013-07-01  150.731001"
      ]
     },
     "execution_count": 6,
     "metadata": {},
     "output_type": "execute_result"
    }
   ],
   "source": [
    "df_emae.head()"
   ]
  },
  {
   "cell_type": "code",
   "execution_count": 7,
   "id": "b9574b8d-8f8d-47bd-b9a6-f2ad33ed1bba",
   "metadata": {
    "tags": []
   },
   "outputs": [],
   "source": [
    "# Se incorpora una columna que permita ver la variación respecto a la media\n",
    "df_emae['variacion'] = df_emae['EMAE'] - df_emae['EMAE'].mean()"
   ]
  },
  {
   "cell_type": "code",
   "execution_count": 8,
   "id": "7e60b2c1-62ec-4914-b3f6-3708d469c999",
   "metadata": {
    "tags": []
   },
   "outputs": [
    {
     "data": {
      "text/plain": [
       "(100, 3)"
      ]
     },
     "execution_count": 8,
     "metadata": {},
     "output_type": "execute_result"
    }
   ],
   "source": [
    "df_emae.shape"
   ]
  },
  {
   "cell_type": "code",
   "execution_count": 9,
   "id": "6d52e01f-f6b4-4bf6-860e-16bb2958e807",
   "metadata": {
    "tags": []
   },
   "outputs": [
    {
     "data": {
      "text/html": [
       "<div>\n",
       "<style scoped>\n",
       "    .dataframe tbody tr th:only-of-type {\n",
       "        vertical-align: middle;\n",
       "    }\n",
       "\n",
       "    .dataframe tbody tr th {\n",
       "        vertical-align: top;\n",
       "    }\n",
       "\n",
       "    .dataframe thead th {\n",
       "        text-align: right;\n",
       "    }\n",
       "</style>\n",
       "<table border=\"1\" class=\"dataframe\">\n",
       "  <thead>\n",
       "    <tr style=\"text-align: right;\">\n",
       "      <th></th>\n",
       "      <th>date</th>\n",
       "      <th>EMAE</th>\n",
       "      <th>variacion</th>\n",
       "    </tr>\n",
       "  </thead>\n",
       "  <tbody>\n",
       "    <tr>\n",
       "      <th>0</th>\n",
       "      <td>2013-03-01</td>\n",
       "      <td>149.403946</td>\n",
       "      <td>5.043770</td>\n",
       "    </tr>\n",
       "    <tr>\n",
       "      <th>1</th>\n",
       "      <td>2013-04-01</td>\n",
       "      <td>155.941596</td>\n",
       "      <td>11.581420</td>\n",
       "    </tr>\n",
       "    <tr>\n",
       "      <th>2</th>\n",
       "      <td>2013-05-01</td>\n",
       "      <td>167.973479</td>\n",
       "      <td>23.613304</td>\n",
       "    </tr>\n",
       "    <tr>\n",
       "      <th>3</th>\n",
       "      <td>2013-06-01</td>\n",
       "      <td>156.271864</td>\n",
       "      <td>11.911689</td>\n",
       "    </tr>\n",
       "    <tr>\n",
       "      <th>4</th>\n",
       "      <td>2013-07-01</td>\n",
       "      <td>150.731001</td>\n",
       "      <td>6.370826</td>\n",
       "    </tr>\n",
       "  </tbody>\n",
       "</table>\n",
       "</div>"
      ],
      "text/plain": [
       "         date        EMAE  variacion\n",
       "0  2013-03-01  149.403946   5.043770\n",
       "1  2013-04-01  155.941596  11.581420\n",
       "2  2013-05-01  167.973479  23.613304\n",
       "3  2013-06-01  156.271864  11.911689\n",
       "4  2013-07-01  150.731001   6.370826"
      ]
     },
     "execution_count": 9,
     "metadata": {},
     "output_type": "execute_result"
    }
   ],
   "source": [
    "df_emae.head()"
   ]
  },
  {
   "cell_type": "markdown",
   "id": "c74f9a7f-42c2-4a03-a0a2-507bf669b6fd",
   "metadata": {
    "tags": []
   },
   "source": [
    "## Canasta básica"
   ]
  },
  {
   "cell_type": "markdown",
   "id": "a57d5c73-df38-46fd-a3f9-7c8541d62acf",
   "metadata": {},
   "source": [
    "A través del explorador de la [API de series de tiempo del Ministerio de Modernización](https://datosgobar.github.io/series-tiempo-ar-explorer/#/series/?ids=444.1_CANASTA_BATAL_0_0_20_94), se obtiene en formato **.csv** los datos de la **canasta básica alimentaria** y **canasta básica total** en pesos de la Ciudad Autónoma de Buenos Aires para el período **Enero-2013/Noviembre-2018** (frecuencia mensual)"
   ]
  },
  {
   "cell_type": "code",
   "execution_count": 56,
   "id": "88badba4-43e3-427e-91d3-3c5ae7b5d95a",
   "metadata": {
    "tags": []
   },
   "outputs": [],
   "source": [
    "df_canasta = pd.read_csv('data/canastas-basicas-ciudad-de-buenos-aires.csv')"
   ]
  },
  {
   "cell_type": "code",
   "execution_count": 59,
   "id": "92df3293-0065-45f1-aaf5-1b7edb2905c7",
   "metadata": {
    "tags": []
   },
   "outputs": [],
   "source": [
    "# Cambio del nombre de la columna indice_tiempo\n",
    "df_canasta.rename(columns={'indice_tiempo': 'date'}, inplace=True)"
   ]
  },
  {
   "cell_type": "code",
   "execution_count": 60,
   "id": "af122506-2390-4d0c-8ea5-ee5cf89d2b06",
   "metadata": {
    "tags": []
   },
   "outputs": [
    {
     "data": {
      "text/html": [
       "<div>\n",
       "<style scoped>\n",
       "    .dataframe tbody tr th:only-of-type {\n",
       "        vertical-align: middle;\n",
       "    }\n",
       "\n",
       "    .dataframe tbody tr th {\n",
       "        vertical-align: top;\n",
       "    }\n",
       "\n",
       "    .dataframe thead th {\n",
       "        text-align: right;\n",
       "    }\n",
       "</style>\n",
       "<table border=\"1\" class=\"dataframe\">\n",
       "  <thead>\n",
       "    <tr style=\"text-align: right;\">\n",
       "      <th></th>\n",
       "      <th>date</th>\n",
       "      <th>canasta_basica_alimentaria</th>\n",
       "      <th>canasta_basica_total</th>\n",
       "    </tr>\n",
       "  </thead>\n",
       "  <tbody>\n",
       "    <tr>\n",
       "      <th>0</th>\n",
       "      <td>2013-01-01</td>\n",
       "      <td>2634.91</td>\n",
       "      <td>5813.43</td>\n",
       "    </tr>\n",
       "    <tr>\n",
       "      <th>1</th>\n",
       "      <td>2013-02-01</td>\n",
       "      <td>2645.91</td>\n",
       "      <td>5852.52</td>\n",
       "    </tr>\n",
       "    <tr>\n",
       "      <th>2</th>\n",
       "      <td>2013-03-01</td>\n",
       "      <td>2676.89</td>\n",
       "      <td>5974.26</td>\n",
       "    </tr>\n",
       "    <tr>\n",
       "      <th>3</th>\n",
       "      <td>2013-04-01</td>\n",
       "      <td>2702.55</td>\n",
       "      <td>6074.80</td>\n",
       "    </tr>\n",
       "    <tr>\n",
       "      <th>4</th>\n",
       "      <td>2013-05-01</td>\n",
       "      <td>2713.25</td>\n",
       "      <td>6150.23</td>\n",
       "    </tr>\n",
       "  </tbody>\n",
       "</table>\n",
       "</div>"
      ],
      "text/plain": [
       "         date  canasta_basica_alimentaria  canasta_basica_total\n",
       "0  2013-01-01                     2634.91               5813.43\n",
       "1  2013-02-01                     2645.91               5852.52\n",
       "2  2013-03-01                     2676.89               5974.26\n",
       "3  2013-04-01                     2702.55               6074.80\n",
       "4  2013-05-01                     2713.25               6150.23"
      ]
     },
     "execution_count": 60,
     "metadata": {},
     "output_type": "execute_result"
    }
   ],
   "source": [
    "df_canasta.head()"
   ]
  },
  {
   "cell_type": "code",
   "execution_count": 61,
   "id": "8261ba4e-ec66-4c1f-8648-f8e7d352930d",
   "metadata": {
    "tags": []
   },
   "outputs": [
    {
     "data": {
      "text/plain": [
       "(71, 3)"
      ]
     },
     "execution_count": 61,
     "metadata": {},
     "output_type": "execute_result"
    }
   ],
   "source": [
    "df_canasta.shape"
   ]
  },
  {
   "cell_type": "markdown",
   "id": "488f26c0-f348-4ffa-a580-88d673c631a3",
   "metadata": {
    "tags": []
   },
   "source": [
    "## Tipo de Cambio "
   ]
  },
  {
   "cell_type": "markdown",
   "id": "c55b5b14-8724-438e-86d6-b6dd87ab4354",
   "metadata": {},
   "source": [
    "De la misma manera, se obtiene los datos de tipo de cambio (Dólar-Peso) vendedor del Banco de la Nación Argentina para el período **2014-11-03 a 2022-11-30**. En este caso, la frecuencia de los datos es diaria  "
   ]
  },
  {
   "cell_type": "code",
   "execution_count": 62,
   "id": "3953ccd7-0582-493d-a462-47736c4a2d23",
   "metadata": {
    "tags": []
   },
   "outputs": [],
   "source": [
    "df_cambio = pd.read_csv('data/datos-tipo-cambio-usd-futuro-dolar-frecuencia-diaria.csv')"
   ]
  },
  {
   "cell_type": "code",
   "execution_count": 63,
   "id": "a376ec6b-e41a-454c-b87e-5285ebf39818",
   "metadata": {
    "tags": []
   },
   "outputs": [],
   "source": [
    "df_cambio.rename(columns={'indice_tiempo': 'date'}, inplace=True)"
   ]
  },
  {
   "cell_type": "code",
   "execution_count": 64,
   "id": "37b66d9f-4e93-4090-865c-c2db223b0cda",
   "metadata": {
    "tags": []
   },
   "outputs": [
    {
     "data": {
      "text/html": [
       "<div>\n",
       "<style scoped>\n",
       "    .dataframe tbody tr th:only-of-type {\n",
       "        vertical-align: middle;\n",
       "    }\n",
       "\n",
       "    .dataframe tbody tr th {\n",
       "        vertical-align: top;\n",
       "    }\n",
       "\n",
       "    .dataframe thead th {\n",
       "        text-align: right;\n",
       "    }\n",
       "</style>\n",
       "<table border=\"1\" class=\"dataframe\">\n",
       "  <thead>\n",
       "    <tr style=\"text-align: right;\">\n",
       "      <th></th>\n",
       "      <th>date</th>\n",
       "      <th>tipo_cambio_bna_vendedor</th>\n",
       "      <th>tipo_cambio_a3500</th>\n",
       "      <th>tipo_cambio_mae</th>\n",
       "      <th>volumen_mae</th>\n",
       "      <th>tipo_cambio_implicito_en_adrs</th>\n",
       "      <th>futuro_rofex_usd1m</th>\n",
       "      <th>interes_abierto_1m</th>\n",
       "      <th>futuro_rofex_usd2m</th>\n",
       "      <th>interes_abierto_2m</th>\n",
       "      <th>futuro_rofex_usd3m</th>\n",
       "      <th>interes_abierto_3m</th>\n",
       "      <th>futuro_rofex_usd4m</th>\n",
       "      <th>interes_abierto_4m</th>\n",
       "      <th>futuro_rofex_usd5m</th>\n",
       "      <th>interes_abierto_5m</th>\n",
       "      <th>futuro_rofex_usd6m</th>\n",
       "      <th>interes_abierto_6m</th>\n",
       "    </tr>\n",
       "  </thead>\n",
       "  <tbody>\n",
       "    <tr>\n",
       "      <th>0</th>\n",
       "      <td>2002-03-05</td>\n",
       "      <td>NaN</td>\n",
       "      <td>1.9917</td>\n",
       "      <td>NaN</td>\n",
       "      <td>NaN</td>\n",
       "      <td>2.180124</td>\n",
       "      <td>NaN</td>\n",
       "      <td>NaN</td>\n",
       "      <td>NaN</td>\n",
       "      <td>NaN</td>\n",
       "      <td>NaN</td>\n",
       "      <td>NaN</td>\n",
       "      <td>NaN</td>\n",
       "      <td>NaN</td>\n",
       "      <td>NaN</td>\n",
       "      <td>NaN</td>\n",
       "      <td>NaN</td>\n",
       "      <td>NaN</td>\n",
       "    </tr>\n",
       "    <tr>\n",
       "      <th>1</th>\n",
       "      <td>2002-03-06</td>\n",
       "      <td>NaN</td>\n",
       "      <td>2.0508</td>\n",
       "      <td>NaN</td>\n",
       "      <td>NaN</td>\n",
       "      <td>2.222222</td>\n",
       "      <td>NaN</td>\n",
       "      <td>NaN</td>\n",
       "      <td>NaN</td>\n",
       "      <td>NaN</td>\n",
       "      <td>NaN</td>\n",
       "      <td>NaN</td>\n",
       "      <td>NaN</td>\n",
       "      <td>NaN</td>\n",
       "      <td>NaN</td>\n",
       "      <td>NaN</td>\n",
       "      <td>NaN</td>\n",
       "      <td>NaN</td>\n",
       "    </tr>\n",
       "    <tr>\n",
       "      <th>2</th>\n",
       "      <td>2002-03-07</td>\n",
       "      <td>NaN</td>\n",
       "      <td>2.1375</td>\n",
       "      <td>NaN</td>\n",
       "      <td>NaN</td>\n",
       "      <td>2.343949</td>\n",
       "      <td>NaN</td>\n",
       "      <td>NaN</td>\n",
       "      <td>NaN</td>\n",
       "      <td>NaN</td>\n",
       "      <td>NaN</td>\n",
       "      <td>NaN</td>\n",
       "      <td>NaN</td>\n",
       "      <td>NaN</td>\n",
       "      <td>NaN</td>\n",
       "      <td>NaN</td>\n",
       "      <td>NaN</td>\n",
       "      <td>NaN</td>\n",
       "    </tr>\n",
       "    <tr>\n",
       "      <th>3</th>\n",
       "      <td>2002-03-08</td>\n",
       "      <td>NaN</td>\n",
       "      <td>2.2033</td>\n",
       "      <td>NaN</td>\n",
       "      <td>NaN</td>\n",
       "      <td>2.227778</td>\n",
       "      <td>NaN</td>\n",
       "      <td>NaN</td>\n",
       "      <td>NaN</td>\n",
       "      <td>NaN</td>\n",
       "      <td>NaN</td>\n",
       "      <td>NaN</td>\n",
       "      <td>NaN</td>\n",
       "      <td>NaN</td>\n",
       "      <td>NaN</td>\n",
       "      <td>NaN</td>\n",
       "      <td>NaN</td>\n",
       "      <td>NaN</td>\n",
       "    </tr>\n",
       "    <tr>\n",
       "      <th>4</th>\n",
       "      <td>2002-03-09</td>\n",
       "      <td>NaN</td>\n",
       "      <td>2.2033</td>\n",
       "      <td>NaN</td>\n",
       "      <td>NaN</td>\n",
       "      <td>2.227778</td>\n",
       "      <td>NaN</td>\n",
       "      <td>NaN</td>\n",
       "      <td>NaN</td>\n",
       "      <td>NaN</td>\n",
       "      <td>NaN</td>\n",
       "      <td>NaN</td>\n",
       "      <td>NaN</td>\n",
       "      <td>NaN</td>\n",
       "      <td>NaN</td>\n",
       "      <td>NaN</td>\n",
       "      <td>NaN</td>\n",
       "      <td>NaN</td>\n",
       "    </tr>\n",
       "  </tbody>\n",
       "</table>\n",
       "</div>"
      ],
      "text/plain": [
       "         date  tipo_cambio_bna_vendedor  tipo_cambio_a3500  tipo_cambio_mae   \n",
       "0  2002-03-05                       NaN             1.9917              NaN  \\\n",
       "1  2002-03-06                       NaN             2.0508              NaN   \n",
       "2  2002-03-07                       NaN             2.1375              NaN   \n",
       "3  2002-03-08                       NaN             2.2033              NaN   \n",
       "4  2002-03-09                       NaN             2.2033              NaN   \n",
       "\n",
       "   volumen_mae  tipo_cambio_implicito_en_adrs  futuro_rofex_usd1m   \n",
       "0          NaN                       2.180124                 NaN  \\\n",
       "1          NaN                       2.222222                 NaN   \n",
       "2          NaN                       2.343949                 NaN   \n",
       "3          NaN                       2.227778                 NaN   \n",
       "4          NaN                       2.227778                 NaN   \n",
       "\n",
       "   interes_abierto_1m  futuro_rofex_usd2m  interes_abierto_2m   \n",
       "0                 NaN                 NaN                 NaN  \\\n",
       "1                 NaN                 NaN                 NaN   \n",
       "2                 NaN                 NaN                 NaN   \n",
       "3                 NaN                 NaN                 NaN   \n",
       "4                 NaN                 NaN                 NaN   \n",
       "\n",
       "   futuro_rofex_usd3m  interes_abierto_3m  futuro_rofex_usd4m   \n",
       "0                 NaN                 NaN                 NaN  \\\n",
       "1                 NaN                 NaN                 NaN   \n",
       "2                 NaN                 NaN                 NaN   \n",
       "3                 NaN                 NaN                 NaN   \n",
       "4                 NaN                 NaN                 NaN   \n",
       "\n",
       "   interes_abierto_4m  futuro_rofex_usd5m  interes_abierto_5m   \n",
       "0                 NaN                 NaN                 NaN  \\\n",
       "1                 NaN                 NaN                 NaN   \n",
       "2                 NaN                 NaN                 NaN   \n",
       "3                 NaN                 NaN                 NaN   \n",
       "4                 NaN                 NaN                 NaN   \n",
       "\n",
       "   futuro_rofex_usd6m  interes_abierto_6m  \n",
       "0                 NaN                 NaN  \n",
       "1                 NaN                 NaN  \n",
       "2                 NaN                 NaN  \n",
       "3                 NaN                 NaN  \n",
       "4                 NaN                 NaN  "
      ]
     },
     "execution_count": 64,
     "metadata": {},
     "output_type": "execute_result"
    }
   ],
   "source": [
    "df_cambio.head()"
   ]
  },
  {
   "cell_type": "code",
   "execution_count": 65,
   "id": "c9c9825a-a297-461d-af93-31115e08d8dc",
   "metadata": {
    "tags": []
   },
   "outputs": [
    {
     "data": {
      "text/plain": [
       "(7727, 18)"
      ]
     },
     "execution_count": 65,
     "metadata": {},
     "output_type": "execute_result"
    }
   ],
   "source": [
    "df_cambio.shape"
   ]
  },
  {
   "cell_type": "markdown",
   "id": "a44ca53e-1e65-4499-a31b-d75f7eac44e4",
   "metadata": {},
   "source": [
    "Vemos que se obtiene una gran cantidad de datos con varios valores nulos y que arranca desde el año 2002. Al analizar los valores nulos se puede ver que la columna de interés (**tipo_cambio_bna_vendedor**) tiene gran cantidad de valores nulos."
   ]
  },
  {
   "cell_type": "code",
   "execution_count": 66,
   "id": "e70ab9e5-02d5-40ba-af33-6906dace6cbd",
   "metadata": {
    "tags": []
   },
   "outputs": [
    {
     "data": {
      "text/plain": [
       "date                                0\n",
       "tipo_cambio_bna_vendedor         4626\n",
       "tipo_cambio_a3500                   0\n",
       "tipo_cambio_mae                  2311\n",
       "volumen_mae                      4393\n",
       "tipo_cambio_implicito_en_adrs       2\n",
       "futuro_rofex_usd1m               2496\n",
       "interes_abierto_1m               2496\n",
       "futuro_rofex_usd2m               2496\n",
       "interes_abierto_2m               2496\n",
       "futuro_rofex_usd3m               2496\n",
       "interes_abierto_3m               2496\n",
       "futuro_rofex_usd4m               2496\n",
       "interes_abierto_4m               2496\n",
       "futuro_rofex_usd5m               2496\n",
       "interes_abierto_5m               2496\n",
       "futuro_rofex_usd6m               2496\n",
       "interes_abierto_6m               2496\n",
       "dtype: int64"
      ]
     },
     "execution_count": 66,
     "metadata": {},
     "output_type": "execute_result"
    }
   ],
   "source": [
    "df_cambio.isna().sum()"
   ]
  },
  {
   "cell_type": "code",
   "execution_count": 18,
   "id": "38e561c7-c68f-4557-9fb6-67cf799cdb7d",
   "metadata": {
    "tags": []
   },
   "outputs": [],
   "source": [
    "#df_cambio2 = df_cambio.copy()"
   ]
  },
  {
   "cell_type": "code",
   "execution_count": 19,
   "id": "4347dfbf-47f8-487a-890f-f320bf9b1a95",
   "metadata": {
    "tags": []
   },
   "outputs": [],
   "source": [
    "#from datetime import date"
   ]
  },
  {
   "cell_type": "code",
   "execution_count": 21,
   "id": "cd11e8ec-d72b-4231-9f72-0d2b6940c8ec",
   "metadata": {
    "tags": []
   },
   "outputs": [],
   "source": [
    "#df_cambio2.indice_tiempo = [date.fromisoformat(fecha) for fecha in df_cambio2.indice_tiempo]"
   ]
  },
  {
   "cell_type": "code",
   "execution_count": 29,
   "id": "c1eae80d-1cce-4be1-ab5b-c1e436963e21",
   "metadata": {
    "tags": []
   },
   "outputs": [
    {
     "name": "stdout",
     "output_type": "stream",
     "text": [
      "2002-03-05\n"
     ]
    }
   ],
   "source": [
    "#print(df_cambio2.indice_tiempo[0])"
   ]
  },
  {
   "cell_type": "code",
   "execution_count": 67,
   "id": "8ecdc257-3aa0-42fd-b1bf-d415d395af04",
   "metadata": {
    "tags": []
   },
   "outputs": [],
   "source": [
    "# Filtrado por fecha y se selecciona la columna de interés\n",
    "df_cambio2 = df_cambio[df_cambio.date > '2014-11-03'][['date', 'tipo_cambio_bna_vendedor']]"
   ]
  },
  {
   "cell_type": "code",
   "execution_count": 69,
   "id": "3dacac4c-f54b-4859-ae66-46c5a2d2c31e",
   "metadata": {
    "tags": []
   },
   "outputs": [
    {
     "data": {
      "text/plain": [
       "(3100, 2)"
      ]
     },
     "execution_count": 69,
     "metadata": {},
     "output_type": "execute_result"
    }
   ],
   "source": [
    "df_cambio2.shape"
   ]
  },
  {
   "cell_type": "code",
   "execution_count": 70,
   "id": "8e1d65fa-f75a-47be-8674-35b8edfd5192",
   "metadata": {
    "tags": []
   },
   "outputs": [
    {
     "data": {
      "text/plain": [
       "date                        0\n",
       "tipo_cambio_bna_vendedor    0\n",
       "dtype: int64"
      ]
     },
     "execution_count": 70,
     "metadata": {},
     "output_type": "execute_result"
    }
   ],
   "source": [
    "# Comprobación de valores nulos\n",
    "df_cambio2.isna().sum()"
   ]
  },
  {
   "cell_type": "code",
   "execution_count": 68,
   "id": "5f27815c-000c-4d1d-bfbb-1333d51a3dc1",
   "metadata": {
    "tags": []
   },
   "outputs": [
    {
     "data": {
      "text/html": [
       "<div>\n",
       "<style scoped>\n",
       "    .dataframe tbody tr th:only-of-type {\n",
       "        vertical-align: middle;\n",
       "    }\n",
       "\n",
       "    .dataframe tbody tr th {\n",
       "        vertical-align: top;\n",
       "    }\n",
       "\n",
       "    .dataframe thead th {\n",
       "        text-align: right;\n",
       "    }\n",
       "</style>\n",
       "<table border=\"1\" class=\"dataframe\">\n",
       "  <thead>\n",
       "    <tr style=\"text-align: right;\">\n",
       "      <th></th>\n",
       "      <th>date</th>\n",
       "      <th>tipo_cambio_bna_vendedor</th>\n",
       "    </tr>\n",
       "  </thead>\n",
       "  <tbody>\n",
       "    <tr>\n",
       "      <th>4627</th>\n",
       "      <td>2014-11-04</td>\n",
       "      <td>8.51</td>\n",
       "    </tr>\n",
       "    <tr>\n",
       "      <th>4628</th>\n",
       "      <td>2014-11-05</td>\n",
       "      <td>8.51</td>\n",
       "    </tr>\n",
       "    <tr>\n",
       "      <th>4629</th>\n",
       "      <td>2014-11-06</td>\n",
       "      <td>8.51</td>\n",
       "    </tr>\n",
       "    <tr>\n",
       "      <th>4630</th>\n",
       "      <td>2014-11-07</td>\n",
       "      <td>8.51</td>\n",
       "    </tr>\n",
       "    <tr>\n",
       "      <th>4631</th>\n",
       "      <td>2014-11-08</td>\n",
       "      <td>8.51</td>\n",
       "    </tr>\n",
       "  </tbody>\n",
       "</table>\n",
       "</div>"
      ],
      "text/plain": [
       "            date  tipo_cambio_bna_vendedor\n",
       "4627  2014-11-04                      8.51\n",
       "4628  2014-11-05                      8.51\n",
       "4629  2014-11-06                      8.51\n",
       "4630  2014-11-07                      8.51\n",
       "4631  2014-11-08                      8.51"
      ]
     },
     "execution_count": 68,
     "metadata": {},
     "output_type": "execute_result"
    }
   ],
   "source": [
    "df_cambio2.head()"
   ]
  },
  {
   "cell_type": "markdown",
   "id": "8d1e01f8-44ce-4107-984e-392736ee2578",
   "metadata": {},
   "source": [
    "# Creación de Tablas en Redshift"
   ]
  },
  {
   "cell_type": "markdown",
   "id": "746e1394-dbcd-47f7-b8dc-d77d5b9bc56b",
   "metadata": {},
   "source": [
    "## Conexión a través de psycopg"
   ]
  },
  {
   "cell_type": "code",
   "execution_count": 52,
   "id": "73fe25b9-5fa9-4e5a-8794-5eef99821396",
   "metadata": {
    "tags": []
   },
   "outputs": [],
   "source": [
    "# Connect to Redshift using psycopg2\n",
    "conn = psycopg2.connect(\n",
    "    host=env['REDSHIFT_URL'],\n",
    "    port=env['REDSHIFT_PORT'],\n",
    "    dbname=env['REDSHIFT_DATABASE'],\n",
    "    user=env['REDSHIFT_USER'],\n",
    "    password=env['REDSHIFT_PASSWORD']\n",
    ")"
   ]
  },
  {
   "cell_type": "markdown",
   "id": "2a835f7b-dc97-41ec-aeba-546f727158bb",
   "metadata": {},
   "source": [
    "## Tabla de Actividad Economica"
   ]
  },
  {
   "cell_type": "markdown",
   "id": "d4499785-fb20-4849-9c77-ac521047645e",
   "metadata": {},
   "source": [
    "Esta tabla fue creada en el entregable anterior por lo tanto no es necesario volver a crearla"
   ]
  },
  {
   "cell_type": "markdown",
   "id": "d7422be5-0564-4fa9-aeb9-8217c34220f9",
   "metadata": {},
   "source": [
    "## Tabla de Canasta Básica"
   ]
  },
  {
   "cell_type": "code",
   "execution_count": 53,
   "id": "52995171-0265-4432-a8f9-209eaf63accd",
   "metadata": {
    "tags": []
   },
   "outputs": [
    {
     "name": "stdout",
     "output_type": "stream",
     "text": [
      "Table created!\n"
     ]
    }
   ],
   "source": [
    "cursor = conn.cursor()\n",
    "cursor.execute(f\"\"\"\n",
    "create table if not exists {env['REDSHIFT_SCHEMA']}.canasta_basica (\n",
    "    date VARCHAR(10) distkey,\n",
    "    canasta_basica_alimentaria decimal(6,2),\n",
    "    canasta_basica_total decimal(6,2)\n",
    ") sortkey(date);\n",
    "\"\"\")\n",
    "conn.commit()\n",
    "cursor.close()\n",
    "print(\"Table created!\")"
   ]
  },
  {
   "cell_type": "markdown",
   "id": "8244a4ef-ebf0-40c1-9786-d80a11c71f34",
   "metadata": {},
   "source": [
    "## Tabla de Tipo de Cambio"
   ]
  },
  {
   "cell_type": "code",
   "execution_count": 72,
   "id": "055ba75e-d1f4-4b51-b374-905f12fe9916",
   "metadata": {
    "tags": []
   },
   "outputs": [
    {
     "name": "stdout",
     "output_type": "stream",
     "text": [
      "Table created!\n"
     ]
    }
   ],
   "source": [
    "cursor = conn.cursor()\n",
    "cursor.execute(f\"\"\"\n",
    "create table if not exists {env['REDSHIFT_SCHEMA']}.tipo_de_cambio (\n",
    "    date VARCHAR(10) distkey,\n",
    "    tipo_cambio_bna_vendedor decimal(3,2)\n",
    ") sortkey(date);\n",
    "\"\"\")\n",
    "conn.commit()\n",
    "cursor.close()\n",
    "print(\"Table created!\")"
   ]
  },
  {
   "cell_type": "markdown",
   "id": "b8fdc025-9ac5-4cac-bc83-dfcf7d62856f",
   "metadata": {
    "jp-MarkdownHeadingCollapsed": true,
    "tags": []
   },
   "source": [
    "## Gráfico"
   ]
  },
  {
   "cell_type": "code",
   "execution_count": 26,
   "id": "9ad8af75-0aa6-42ed-8238-e6dfb44389ea",
   "metadata": {
    "tags": []
   },
   "outputs": [],
   "source": [
    "import matplotlib.pyplot as plt\n",
    "import seaborn as sns\n",
    "sns.set_theme()\n"
   ]
  },
  {
   "cell_type": "code",
   "execution_count": 30,
   "id": "8929aa3a-54e8-4465-a1b1-ef80a63215b5",
   "metadata": {
    "tags": []
   },
   "outputs": [
    {
     "data": {
      "text/plain": [
       "Text(0.5, 1.0, 'Variación de Estimador Mensual de Actividad Económica')"
      ]
     },
     "execution_count": 30,
     "metadata": {},
     "output_type": "execute_result"
    },
    {
     "data": {
      "image/png": "[encoded data removed]",
      "text/plain": [
       "<Figure size 1000x600 with 1 Axes>"
      ]
     },
     "metadata": {},
     "output_type": "display_data"
    }
   ],
   "source": [
    "# Gráfico de variación EMAE\n",
    "fig, ax = plt.subplots(1, figsize=(10, 6))\n",
    "\n",
    "ax.plot(pd_df.date, \n",
    "        pd_df.variacion, \n",
    "        marker='o',\n",
    "        alpha=0.5)\n",
    "\n",
    "fig.autofmt_xdate(rotation=45)\n",
    "ax.set_xticks([pd_df['date'][x] for x in range(0, 37, 3)])\n",
    "ax.set_ylabel('Variación', fontsize='large')\n",
    "ax.set_xlabel('Fecha', fontsize='large')\n",
    "plt.title('Variación de Estimador Mensual de Actividad Económica')"
   ]
  },
  {
   "cell_type": "markdown",
   "id": "73676783-a7e3-480e-b64a-15eb5686478a",
   "metadata": {},
   "source": [
    "Se puede observar el decaímiento notorio de la actividad económica al comienzo de la pandemia en el año 2020. "
   ]
  },
  {
   "cell_type": "markdown",
   "id": "81129106-1fd2-49b6-9de0-1bcb46180596",
   "metadata": {
    "jp-MarkdownHeadingCollapsed": true,
    "tags": []
   },
   "source": [
    "## Iniciar Sesión de Spark"
   ]
  },
  {
   "cell_type": "code",
   "execution_count": 31,
   "id": "f2993609-2a68-4a99-8806-20cc39101754",
   "metadata": {
    "tags": []
   },
   "outputs": [],
   "source": [
    "import os\n",
    "from pyspark.sql import SparkSession\n",
    "from pyspark.sql.functions import when, lit, col, avg\n",
    "\n",
    "# Postgres and Redshift JDBCs\n",
    "driver_path = \"/home/coder/working_dir/driver_jdbc/postgresql-42.2.27.jre7.jar\"\n",
    "\n",
    "# Seteo de variables de entorno para que Pyspark cargue los drivers correspondientes\n",
    "os.environ['PYSPARK_SUBMIT_ARGS'] = f'--driver-class-path {driver_path} --jars {driver_path} pyspark-shell'\n",
    "os.environ['SPARK_CLASSPATH'] = driver_path\n",
    "\n",
    "# Create SparkSession \n",
    "spark = SparkSession.builder \\\n",
    "        .master(\"local\") \\\n",
    "        .appName(\"Conexion entre Pyspark y Redshift\") \\\n",
    "        .config(\"spark.jars\", driver_path) \\\n",
    "        .config(\"spark.executor.extraClassPath\", driver_path) \\\n",
    "        .getOrCreate()"
   ]
  },
  {
   "cell_type": "code",
   "execution_count": 32,
   "id": "1dce3be7-3d53-4747-839e-588d3134018f",
   "metadata": {
    "tags": []
   },
   "outputs": [],
   "source": [
    "# Variables de entorno ubicadas en env\n",
    "env = os.environ"
   ]
  },
  {
   "cell_type": "markdown",
   "id": "ddbeb6c5-ab74-4cfb-9556-76db5d1d219d",
   "metadata": {},
   "source": [
    "Crear dataframe de Pyspark para guardar los resultados de la consulta a la API"
   ]
  },
  {
   "cell_type": "code",
   "execution_count": 33,
   "id": "514d4e49-35da-4048-9bc7-7e6fd88cb8e2",
   "metadata": {
    "tags": []
   },
   "outputs": [],
   "source": [
    "df_to_write = spark.createDataFrame(pd_df, [\"date\", \"EMAE\", \"variacion\"])"
   ]
  },
  {
   "cell_type": "code",
   "execution_count": 34,
   "id": "e34ee135-0515-45ea-bc01-3ae0c64d3c60",
   "metadata": {
    "tags": []
   },
   "outputs": [
    {
     "name": "stdout",
     "output_type": "stream",
     "text": [
      "root\n",
      " |-- date: string (nullable = true)\n",
      " |-- EMAE: double (nullable = true)\n",
      " |-- variacion: double (nullable = true)\n",
      "\n",
      "+----------+------------------+--------------------+\n",
      "|      date|              EMAE|           variacion|\n",
      "+----------+------------------+--------------------+\n",
      "|2020-03-01|129.44520369035746| -11.517236880279398|\n",
      "|2020-04-01|111.93059529183144|  -29.03184527880542|\n",
      "|2020-05-01|131.24787222442225|  -9.714568346214605|\n",
      "|2020-06-01|133.09348401362806|  -7.868956557008801|\n",
      "|2020-07-01|128.24284806343616| -12.719592507200701|\n",
      "|2020-08-01| 125.1382025859944| -15.824237984642451|\n",
      "|2020-09-01|126.53017344065384| -14.432267129983018|\n",
      "|2020-10-01|131.61628833412382|  -9.346152236513035|\n",
      "|2020-11-01|132.88316888090029|  -8.079271689736572|\n",
      "|2020-12-01|132.30930118742162|  -8.653139383215233|\n",
      "|2021-01-01|129.61070151376322|  -11.35173905687364|\n",
      "|2021-02-01|126.88274749783908| -14.079693072797781|\n",
      "|2021-03-01|147.05799145471897|   6.095550884082115|\n",
      "|2021-04-01|144.90968040530902|  3.9472398346721604|\n",
      "|2021-05-01| 150.4954490768313|   9.533008506194449|\n",
      "|2021-06-01|149.13451595832697|   8.172075387690114|\n",
      "|2021-07-01|142.80651207381146|  1.8440715031746038|\n",
      "|2021-08-01|141.05804938881474| 0.09560881817787958|\n",
      "|2021-09-01|140.84589948042546|-0.11654109021139902|\n",
      "|2021-10-01|140.56246929586212|-0.39997127477474237|\n",
      "+----------+------------------+--------------------+\n",
      "only showing top 20 rows\n",
      "\n"
     ]
    }
   ],
   "source": [
    "df_to_write.printSchema()\n",
    "df_to_write.show()"
   ]
  },
  {
   "cell_type": "markdown",
   "id": "ba1ee8bc-d848-4f8c-a1b8-cb4a726303d3",
   "metadata": {
    "jp-MarkdownHeadingCollapsed": true,
    "tags": []
   },
   "source": [
    "## Crear tabla para insertar datos"
   ]
  },
  {
   "cell_type": "markdown",
   "id": "4be5dbe6-cda5-441c-b079-ca8de935e9e3",
   "metadata": {
    "jp-MarkdownHeadingCollapsed": true,
    "tags": []
   },
   "source": [
    "## Insertar datos en la tabla"
   ]
  },
  {
   "cell_type": "code",
   "execution_count": 38,
   "id": "dc3f7155-9f07-4029-882a-2d6d05d4f20c",
   "metadata": {
    "tags": []
   },
   "outputs": [],
   "source": [
    "df_to_write.write \\\n",
    "    .format(\"jdbc\") \\\n",
    "    .option(\"url\", f\"jdbc:postgresql://{env['REDSHIFT_URL']}:{env['REDSHIFT_PORT']}/{env['REDSHIFT_DATABASE']}\") \\\n",
    "    .option(\"dbtable\", f\"{env['REDSHIFT_SCHEMA']}.actividad_economica\") \\\n",
    "    .option(\"user\", env['REDSHIFT_USER']) \\\n",
    "    .option(\"password\", env['REDSHIFT_PASSWORD']) \\\n",
    "    .option(\"driver\", \"org.postgresql.Driver\") \\\n",
    "    .mode(\"overwrite\") \\\n",
    "    .save()"
   ]
  },
  {
   "cell_type": "markdown",
   "id": "489f73d6-9f53-457e-b18b-b03e591fa710",
   "metadata": {
    "jp-MarkdownHeadingCollapsed": true,
    "tags": []
   },
   "source": [
    "## Capturas de Redshift en DBeaver"
   ]
  },
  {
   "attachments": {
    "06361ea0-f9cf-4307-84cc-90ab6855ea15.png": {
     "image/png": "[encoded data removed]"
    }
   },
   "cell_type": "markdown",
   "id": "b306f362-f4dc-4b59-825d-6390410bd96f",
   "metadata": {},
   "source": [
    "![image.png](attachment:06361ea0-f9cf-4307-84cc-90ab6855ea15.png)"
   ]
  }
 ],
 "metadata": {
  "kernelspec": {
   "display_name": "Python 3 (ipykernel)",
   "language": "python",
   "name": "python3"
  },
  "language_info": {
   "codemirror_mode": {
    "name": "ipython",
    "version": 3
   },
   "file_extension": ".py",
   "mimetype": "text/x-python",
   "name": "python",
   "nbconvert_exporter": "python",
   "pygments_lexer": "ipython3",
   "version": "3.10.10"
  }
 },
 "nbformat": 4,
 "nbformat_minor": 5
}
